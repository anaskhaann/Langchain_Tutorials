{
 "cells": [
  {
   "cell_type": "code",
   "execution_count": 1,
   "id": "fc44496c",
   "metadata": {},
   "outputs": [],
   "source": [
    "from dotenv import load_dotenv\n",
    "from langchain_google_genai import ChatGoogleGenerativeAI\n",
    "from langchain_core.tools import tool\n",
    "from langchain_community.tools import DuckDuckGoSearchRun\n",
    "import requests"
   ]
  },
  {
   "cell_type": "code",
   "execution_count": 2,
   "id": "cb98d209",
   "metadata": {},
   "outputs": [
    {
     "data": {
      "text/plain": [
       "True"
      ]
     },
     "execution_count": 2,
     "metadata": {},
     "output_type": "execute_result"
    }
   ],
   "source": [
    "load_dotenv()"
   ]
  },
  {
   "cell_type": "code",
   "execution_count": 10,
   "id": "c8794f46",
   "metadata": {},
   "outputs": [
    {
     "data": {
      "text/plain": [
       "\"14 hours ago - India News | Latest India News | Read latest and breaking news from India . Today ' s top India news headlines, news on Indian politics, elections, government, business, technology, and Bollywood. 1 day ago - Latest News India : Get the breaking news from India on indian government, economic developments, entertainment, technology, lifestyle & more. Find comprehensive updates and insights from Business Standard. 2 days ago - Latest news headlines from India & around the world. Check out today ’ s news coverage live with videos & photos on NDTV.com. 5 hours ago - Get all the latest news headlines from India and around the world. Explore more for today ’ s news coverage with videos & photos on Business Standard. 13 hours ago - Here are the top national and international news updates for today , covering key developments in politics, economy, diplomacy, and global events. From Supreme Court rulings and electoral roll revisions in India to global discussions on the Ukraine conflict and natural disasters, these highlights ...\""
      ]
     },
     "execution_count": 10,
     "metadata": {},
     "output_type": "execute_result"
    }
   ],
   "source": [
    "# Just for testing\n",
    "\n",
    "search_tool = DuckDuckGoSearchRun()\n",
    "\n",
    "search_tool.invoke(\"Top news in India Today\")"
   ]
  },
  {
   "cell_type": "code",
   "execution_count": 4,
   "id": "f75d88dd",
   "metadata": {},
   "outputs": [],
   "source": [
    "# create llm\n",
    "\n",
    "llm = ChatGoogleGenerativeAI(model=\"gemini-2.5-flash\")"
   ]
  },
  {
   "cell_type": "code",
   "execution_count": null,
   "id": "bc297943",
   "metadata": {},
   "outputs": [
    {
     "data": {
      "text/plain": [
       "AIMessage(content='I am a large language model, trained by Google.', additional_kwargs={}, response_metadata={'prompt_feedback': {'block_reason': 0, 'safety_ratings': []}, 'finish_reason': 'STOP', 'safety_ratings': []}, id='run--d6f31a55-06eb-44ec-9d49-514f21a05e6d-0', usage_metadata={'input_tokens': 5, 'output_tokens': 11, 'total_tokens': 655, 'input_token_details': {'cache_read': 0}})"
      ]
     },
     "execution_count": 5,
     "metadata": {},
     "output_type": "execute_result"
    }
   ],
   "source": [
    "# test llm\n",
    "llm.invoke(\"Who are you?\")"
   ]
  },
  {
   "cell_type": "code",
   "execution_count": 6,
   "id": "5ccbc453",
   "metadata": {},
   "outputs": [],
   "source": [
    "# Create agent out of llm\n",
    "from langchain.agents import (\n",
    "    create_react_agent,\n",
    "    AgentExecutor,\n",
    ")  # for creating agent and making it executable\n",
    "from langchain import hub  # hub for predefined prompt"
   ]
  },
  {
   "cell_type": "code",
   "execution_count": 7,
   "id": "d19784ce",
   "metadata": {},
   "outputs": [
    {
     "name": "stderr",
     "output_type": "stream",
     "text": [
      "d:\\Projects\\Langchain\\.venv\\Lib\\site-packages\\langsmith\\client.py:272: LangSmithMissingAPIKeyWarning: API key must be provided when using hosted LangSmith API\n",
      "  warnings.warn(\n"
     ]
    }
   ],
   "source": [
    "\"\"\"\n",
    "REACT Agent:\n",
    "Reasoning and Action.\n",
    "\"\"\"\n",
    "\n",
    "# get the prompt design pattern for react from hub\n",
    "# This is the predefined prompt for react agent\n",
    "prompt = hub.pull(\"hwchase17/react\")"
   ]
  },
  {
   "cell_type": "code",
   "execution_count": 11,
   "id": "6e8c0a64",
   "metadata": {},
   "outputs": [],
   "source": [
    "\"\"\"\n",
    "Create react agent by \n",
    "1. Which llm used\n",
    "2. which tools available\n",
    "3. which prompt\n",
    "\"\"\"\n",
    "\n",
    "agent = create_react_agent(llm=llm, tools=[search_tool], prompt=prompt)"
   ]
  },
  {
   "cell_type": "markdown",
   "id": "3e438177",
   "metadata": {},
   "source": [
    "**Agent Thinks and Plan and Agent Executor Execute the works**\n"
   ]
  },
  {
   "cell_type": "code",
   "execution_count": 12,
   "id": "17b4b2d8",
   "metadata": {},
   "outputs": [],
   "source": [
    "\"\"\"Create executor of the Agent\"\"\"\n",
    "\"\"\"\n",
    "1. specify tools\n",
    "2. specify agents\n",
    "3. Verbose = True (This helps to show thinking of the Agent)\n",
    "\"\"\"\n",
    "\n",
    "agent_executor = AgentExecutor(agent=agent, tools=[search_tool], verbose=True)"
   ]
  },
  {
   "cell_type": "code",
   "execution_count": null,
   "id": "cf2b44e9",
   "metadata": {},
   "outputs": [
    {
     "name": "stdout",
     "output_type": "stream",
     "text": [
      "\n",
      "\n",
      "\u001b[1m> Entering new AgentExecutor chain...\u001b[0m\n",
      "\u001b[32;1m\u001b[1;3mAction: duckduckgo_search\n",
      "Action Input: most efficient platforms to learn development 2024 2025\u001b[0m\u001b[36;1m\u001b[1;3mDecember 18, 2024 - Udemy , a widely popular online learning platform, offers a vast array of courses on diverse topics, making it suitable for both professional development and hobbyists. 2 Apr 2025 — To help you make the right choice, we've rounded up the top ten online learning platforms that make teaching online simpler, smoother, and way more effective . December 21, 2024 - Are you looking for an online learning platform to build new skills? Here are the best eLearning websites offering courses to improve your skills and career. 2 weeks ago - Strong performance optimization : Improves web app speed and efficiency. ... Steeper learning curve: The initial learning curve for Angular can be steeper compared to simpler frameworks. November 20, 2024 - Udemy is an e-learning platform that offers adaptable and efficient skill development to empower people and organizations.\u001b[0m\u001b[32;1m\u001b[1;3mAction: duckduckgo_search\n",
      "Action Input: best platforms for efficient software development learning 2025\u001b[0m\u001b[36;1m\u001b[1;3mMay 19, 2025 · Top software engineering learning platforms in 2025 The following developer learning platforms are the perfect way to stretch a slashed L&D budget and facilitate high-quality learning. April 1, 2025 - Discover the top platforms for software development in 2025 , from low-code to AI tools and more! Discover the 12 best corporate learning and development tools for 2025 with in-depth reviews of the top platforms . Apr 5, 2024 · Online course providers: Platforms like LinkedIn Learning and Udemy offer a vast library of courses covering various subjects. These providers are well-suited for organizations looking to give employees access to new skills and knowledge without the need for custom content creation. Jan 1, 2025 · Explore cutting-edge top Learning and Development tools designed to enhance employee training, streamline processes, and drive growth. What is a developer learning platform? A developer learning platform is a training and development tool used to teach software engineers about new technology, programs, languages, or best practices. Many engineering learning tools contain curated learning paths to help devs build skills progressively and see real-world applications of those techniques. Why do we need a learning and development platform? This helps us keep our content accurate and up-to-date. What is a learning and development platform? A learning and development (L&D) platform is an integrated suite of digital tools or software aimed at enhancing the educational and training processes within an organization . What makes a good learning & development tool? The most effective learning and development tools are customizable, flexible, and easy to use . Here are some essential features and functionalities that modern L&D tools should offer: Personalization Offers personalized content suggestions, learning paths, and assessments for each user. Integration capabilities What is a microlearning platform? Microlearning platforms: These platforms are focused on delivering short, targeted learning modules . They support knowledge retention and provide learners with immediate access to necessary information, making it best suited for busy work environments. Related: The 10 Best Microlearning Platforms for 2025 (In-Depth Guide) What makes a good L&D platform? Pinpoint essential features that your L&D platform must have to meet your identified needs. These features might include: Ensuring that your chosen platform can support these functionalities will help in creating engaging, effective, and measurable learning experiences for your employees. What are the best LMS programs? Here are the top LMS programs we have included in our list: Teachfloor is an innovative social learning platform that empowers educators and trainers to create and manage their own virtual classrooms. It offers a comprehensive suite of tools for live teaching, interactive assignments, and real-time collaboration. Apr 1, 2025 · Discover the top platforms for software development in 2025 , from low-code to AI tools and more!. December 21, 2024 - Are you looking for an online learning platform to build new skills? Here are the best eLearning websites offering courses to improve your skills and career. May 26, 2025 - See our list of 27 best software development tools that you can use for coding, project management, collaboration, automation, and more.\u001b[0m\u001b[32;1m\u001b[1;3mThought: I have gathered information from two search queries regarding efficient platforms to learn development in 2025. The results mention several types of platforms and specific examples.\n",
      "\n",
      "Key takeaways include:\n",
      "*   **Udemy** is consistently mentioned as a widely popular and efficient online learning platform with a vast array of courses for skill development.\n",
      "*   **LinkedIn Learning** is another online course provider offering a large library of courses.\n",
      "*   **Developer learning platforms** are highlighted as tools specifically designed to teach software engineers, often featuring curated learning paths for progressive skill building and real-world applications.\n",
      "*   **Corporate learning and development (L&D) platforms** are also mentioned, with key features for efficiency being customization, flexibility, ease of use, personalization, and integration capabilities.\n",
      "*   **Microlearning platforms** are noted for their efficiency in knowledge retention through short, targeted modules, suitable for busy environments.\n",
      "*   **Teachfloor** is an example of a social learning platform for virtual classrooms.\n",
      "\n",
      "To provide the \"most efficient\" platforms, I should focus on those that offer structured learning, personalization, up-to-date content, and practical application, as these contribute to efficiency. Udemy and LinkedIn Learning offer breadth, while dedicated developer learning platforms or L&D platforms with specific features offer depth and tailored experiences. Microlearning offers speed and targeted knowledge.\n",
      "\n",
      "I can now synthesize this information into a final answer.\n",
      "Final Answer: For learning development efficiently in 2025, a combination of platform types and specific examples stands out:\n",
      "\n",
      "1.  **Comprehensive Online Course Platforms:** Platforms like **Udemy** and **LinkedIn Learning** are highly efficient due to their extensive libraries of courses covering diverse development topics. They allow learners to access new skills and knowledge on demand.\n",
      "2.  **Dedicated Developer Learning Platforms:** These platforms are specifically designed for software engineers and often feature curated learning paths. They are efficient as they help developers build skills progressively and see real-world applications, ensuring high-quality and targeted learning. Key features for efficiency include personalization and up-to-date content.\n",
      "3.  **Corporate Learning & Development (L&D) Platforms (for organizational learning):** For structured and efficient learning within an organization, L&D platforms are crucial. The most effective ones offer customization, flexibility, ease of use, personalized content suggestions, and strong integration capabilities, ensuring engaging and measurable learning experiences.\n",
      "4.  **Microlearning Platforms:** These platforms are highly efficient for knowledge retention and quick skill acquisition by delivering short, targeted learning modules. They are particularly effective for busy individuals who need immediate access to specific information.\n",
      "\n",
      "In summary, for individual learners, **Udemy** and **LinkedIn Learning** offer breadth and flexibility. For more structured and tailored learning, exploring dedicated **developer learning platforms** that offer personalized paths and practical applications will be most efficient. For quick, targeted learning, **microlearning platforms** are a strong choice.\u001b[0m\n",
      "\n",
      "\u001b[1m> Finished chain.\u001b[0m\n"
     ]
    }
   ],
   "source": [
    "# Test by checking response\n",
    "response = agent_executor.invoke(\n",
    "    {\"input\": \"What are the most efficient platforms to Learn Development in 2025\"}\n",
    ")"
   ]
  },
  {
   "cell_type": "code",
   "execution_count": 17,
   "id": "1a543b9c",
   "metadata": {},
   "outputs": [
    {
     "name": "stdout",
     "output_type": "stream",
     "text": [
      "{'input': 'What are the most efficient platforms to Learn Development in 2025', 'output': 'For learning development efficiently in 2025, a combination of platform types and specific examples stands out:\\n\\n1.  **Comprehensive Online Course Platforms:** Platforms like **Udemy** and **LinkedIn Learning** are highly efficient due to their extensive libraries of courses covering diverse development topics. They allow learners to access new skills and knowledge on demand.\\n2.  **Dedicated Developer Learning Platforms:** These platforms are specifically designed for software engineers and often feature curated learning paths. They are efficient as they help developers build skills progressively and see real-world applications, ensuring high-quality and targeted learning. Key features for efficiency include personalization and up-to-date content.\\n3.  **Corporate Learning & Development (L&D) Platforms (for organizational learning):** For structured and efficient learning within an organization, L&D platforms are crucial. The most effective ones offer customization, flexibility, ease of use, personalized content suggestions, and strong integration capabilities, ensuring engaging and measurable learning experiences.\\n4.  **Microlearning Platforms:** These platforms are highly efficient for knowledge retention and quick skill acquisition by delivering short, targeted learning modules. They are particularly effective for busy individuals who need immediate access to specific information.\\n\\nIn summary, for individual learners, **Udemy** and **LinkedIn Learning** offer breadth and flexibility. For more structured and tailored learning, exploring dedicated **developer learning platforms** that offer personalized paths and practical applications will be most efficient. For quick, targeted learning, **microlearning platforms** are a strong choice.'}\n"
     ]
    }
   ],
   "source": [
    "print(response)"
   ]
  },
  {
   "cell_type": "code",
   "execution_count": null,
   "id": "2381622b",
   "metadata": {},
   "outputs": [
    {
     "name": "stdout",
     "output_type": "stream",
     "text": [
      "For learning development efficiently in 2025, a combination of platform types and specific examples stands out:\n",
      "\n",
      "1.  **Comprehensive Online Course Platforms:** Platforms like **Udemy** and **LinkedIn Learning** are highly efficient due to their extensive libraries of courses covering diverse development topics. They allow learners to access new skills and knowledge on demand.\n",
      "2.  **Dedicated Developer Learning Platforms:** These platforms are specifically designed for software engineers and often feature curated learning paths. They are efficient as they help developers build skills progressively and see real-world applications, ensuring high-quality and targeted learning. Key features for efficiency include personalization and up-to-date content.\n",
      "3.  **Corporate Learning & Development (L&D) Platforms (for organizational learning):** For structured and efficient learning within an organization, L&D platforms are crucial. The most effective ones offer customization, flexibility, ease of use, personalized content suggestions, and strong integration capabilities, ensuring engaging and measurable learning experiences.\n",
      "4.  **Microlearning Platforms:** These platforms are highly efficient for knowledge retention and quick skill acquisition by delivering short, targeted learning modules. They are particularly effective for busy individuals who need immediate access to specific information.\n",
      "\n",
      "In summary, for individual learners, **Udemy** and **LinkedIn Learning** offer breadth and flexibility. For more structured and tailored learning, exploring dedicated **developer learning platforms** that offer personalized paths and practical applications will be most efficient. For quick, targeted learning, **microlearning platforms** are a strong choice.\n"
     ]
    }
   ],
   "source": [
    "print(response[\"output\"])"
   ]
  },
  {
   "cell_type": "code",
   "execution_count": 19,
   "id": "532436e7",
   "metadata": {},
   "outputs": [
    {
     "name": "stdout",
     "output_type": "stream",
     "text": [
      "\n",
      "\n",
      "\u001b[1m> Entering new AgentExecutor chain...\u001b[0m\n",
      "\u001b[32;1m\u001b[1;3mAction: duckduckgo_search\n",
      "Action Input: capital of India\u001b[0m\u001b[36;1m\u001b[1;3mDelhi,[b] officially the National Capital Territory (NCT) of Delhi, is a city and a union territory of India containing New Delhi, the capital of India . a b c \"The Gazette of India , National Capital Region Planning Board Act of 1985\" (PDF) . ... of $370 billion, Delhi-NCR muscles out Mumbai as economic ... The national capital of India , New Delhi is jointly administered by both the Central Government of India and the local Government of Delhi , it is ... In 1858,Prayagraj became the capital of India for a day when it also served as the capital of North-Western Provinces . ... 26 January 1950, a representation of the Lion Capital of Ashoka placed above the motto, Satyameva Jayate , was adopted as the State Emblem of India .\u001b[0m\u001b[32;1m\u001b[1;3mAction: duckduckgo_search\n",
      "Action Input: population of New Delhi\u001b[0m\u001b[36;1m\u001b[1;3m30 Aug 2025 — As of 2016 the most recent population estimates have spanned 25.7 to 26.5 million people . The foundation stone of New Delhi , south of central Delhi , was laid by George V during the Delhi Durbar of 1911.[8] It was designed by British architects Edwin Lutyens and Herbert Baker. The new capital was inaugurated on 13 February 1931,[9] by Viceroy and Governor-General Irwin. Population: 930 million people . Geographic size: 1.2 million square miles. Capital: New Delhi. Major cities and population: New Delhi, Delhi (7 million) ... 6 days ago — Demographic Label, Value. Area, 291.66 Sq Km. No. of Revenue Divisions, 3. Sex Ratio, 868. Total Population, 887,978 . Male, 475,002. Female, 412,976. 21 Feb 2025 — There are 11,835,000, or 11.84 million, or 1.18 crore, males and 10,442,000, or 10.44 million, or 1.04 crore, females in Delhi. Delhi has 1,393,000, or 1.39 ...\u001b[0m\u001b[32;1m\u001b[1;3mAction: duckduckgo_search\n",
      "Action Input: population of New Delhi city\u001b[0m\u001b[36;1m\u001b[1;3m30 Aug 2025 — As of 2016 the most recent population estimates have spanned 25.7 to 26.5 million people . Aug 28, 2025 · Population statistics give you information about people who live in New Zealand. Find out the number of people in New Zealand and in different areas of New Zealand. These … Jun 30, 2025 · The estimated resident population of Aotearoa New Zealand was 5,324,700 (provisionally) at 30 June 2025. Jun 30, 2023 · More data Methodology for the 2023-base population Definitions and metadata New estimated resident population of 5,200,000 at 30 June 2023 This is the first release of the … Sep 30, 2024 · National population estimates give the best available measure of the population, by age and sex, usually living in New Zealand.\u001b[0m\u001b[32;1m\u001b[1;3mAction: duckduckgo_search\n",
      "Action Input: population of National Capital Territory of Delhi\u001b[0m\u001b[36;1m\u001b[1;3mNational Capital Territory of Delhi . Delhi ,[b] officially the National Capital Territory (NCT) of Delhi , is a city and a union territory of India containing New Delhi , the capital of India. Straddling the Yamuna river, but spread chiefly to the west, or beyond its right bank, Delhi shares... 30 Aug 2025 — The NCR is a rural-urban region, with a population of over 46,069,000 and an urbanisation level of 62.6%. As well as cities and towns, the NCR contains ... Correct, elaborate, elucidate. A LITTLE GEOGRAPHY, DEMOGRAPHY, ECOLOGY — Uttar Pradesh to the east, Haryana surrounds it in all remaining directions. 1. As of 2024, the population of New Delhi is estimated to be 21 million and the Delhi Capital Territory to be 33 million. Delhi , or the National Capital Territory (NCT) of India, is a large metropolitan area in India. Delhi Population Growth. Delhi is one of the fastest growing cities in the world, reaching over 18 million this year from just 400,000 in 1901. Delhi is a city and national capital territory in north-central India.Why is Delhi referred to as the capital of India? What are some historical landmarks found in Delhi ? How does Delhi 's climate vary with the seasons? What is the significance of the Red Fort in Delhi ?\u001b[0m\u001b[32;1m\u001b[1;3mThought: The capital of India is New Delhi, which is located within the National Capital Territory (NCT) of Delhi. The search results provide population figures for both New Delhi and the Delhi Capital Territory. The last search result for \"population of National Capital Territory of Delhi\" states: \"As of 2024, the population of New Delhi is estimated to be 21 million and the Delhi Capital Territory to be 33 million.\" Since the question specifically asks for the population of the \"capital on India\", which is New Delhi, the 21 million figure is the most direct answer.\n",
      "Final Answer: The population of New Delhi, the capital of India, is estimated to be 21 million as of 2024. The larger Delhi Capital Territory has an estimated population of 33 million.\u001b[0m\n",
      "\n",
      "\u001b[1m> Finished chain.\u001b[0m\n"
     ]
    }
   ],
   "source": [
    "# Test by checking response\n",
    "response = agent_executor.invoke(\n",
    "    {\"input\": \"What is the population of capital on India\"}\n",
    ")"
   ]
  },
  {
   "cell_type": "code",
   "execution_count": null,
   "id": "cd707ec5",
   "metadata": {},
   "outputs": [
    {
     "name": "stdout",
     "output_type": "stream",
     "text": [
      "The population of New Delhi, the capital of India, is estimated to be 21 million as of 2024. The larger Delhi Capital Territory has an estimated population of 33 million.\n"
     ]
    }
   ],
   "source": [
    "print(response[\"output\"])"
   ]
  },
  {
   "cell_type": "code",
   "execution_count": 21,
   "id": "a09944a4",
   "metadata": {},
   "outputs": [],
   "source": [
    "# Add another tool to get weather of the city\n",
    "# using free Api for Us only\n",
    "\n",
    "\n",
    "@tool\n",
    "def get_temperature(city_name: str) -> float:\n",
    "    \"\"\"This function get the current weather data for a given city\"\"\"\n",
    "    url = f\"https://goweather.xyz/weather/{city_name}\"\n",
    "\n",
    "    response = requests.get(url)\n",
    "    return response.json()"
   ]
  },
  {
   "cell_type": "code",
   "execution_count": 22,
   "id": "7d9e9603",
   "metadata": {},
   "outputs": [
    {
     "data": {
      "text/plain": [
       "ChatGoogleGenerativeAI(model='models/gemini-2.5-flash', google_api_key=SecretStr('**********'), client=<google.ai.generativelanguage_v1beta.services.generative_service.client.GenerativeServiceClient object at 0x000002686541F770>, default_metadata=())"
      ]
     },
     "execution_count": 22,
     "metadata": {},
     "output_type": "execute_result"
    }
   ],
   "source": [
    "llm"
   ]
  },
  {
   "cell_type": "code",
   "execution_count": 24,
   "id": "03e82b01",
   "metadata": {},
   "outputs": [],
   "source": [
    "agent = create_react_agent(llm=llm, tools=[search_tool, get_temperature], prompt=prompt)"
   ]
  },
  {
   "cell_type": "code",
   "execution_count": 25,
   "id": "a4fa285f",
   "metadata": {},
   "outputs": [],
   "source": [
    "agent_executor = AgentExecutor(\n",
    "    agent=agent, tools=[search_tool, get_temperature], verbose=True\n",
    ")"
   ]
  },
  {
   "cell_type": "code",
   "execution_count": null,
   "id": "7da06889",
   "metadata": {},
   "outputs": [
    {
     "name": "stdout",
     "output_type": "stream",
     "text": [
      "\n",
      "\n",
      "\u001b[1m> Entering new AgentExecutor chain...\u001b[0m\n",
      "\u001b[32;1m\u001b[1;3mAction: duckduckgo_search\n",
      "Action Input: capital of Germany\u001b[0m\u001b[36;1m\u001b[1;3mEast Berlin was declared the capital of East Germany , while Bonn became the West German capital. Following German reunification in 1990, Berlin once again became the capital of all of Germany . 7 Feb 2025 — Munich is the capital and most populous city of Bavaria, Germany. As of 30 November 2024, its population was 1,604,384, making it the third-largest city in ... Berlin is located in northeastern Germany . It is approximately 70 kilometers (43 miles) west of the border with Poland. Berlin is built around the River Spree, which runs through the city’s center. The Spree is a tributary of the Havel River, which also flows through parts of the city. There are also numerous smaller rivers and canals throughout th... See full list on mappr.co Berlin’s history is complex and fascinating, marked by periods of outstanding cultural achievement and devastating wars and division. The earliest documentation of Berlin can be traced back to the 13th centurywhen it was merely a modest fishing settlement. Berlin and the city of Cölln were officially founded in 1237. Over the centuries, it became n... See full list on mappr.co Berlin is a city of remarkable contrasts and celebrated diversity. From the remnants of the Berlin Wall to the iconic Brandenburg Gate, the city is filled with historical landmarks that reflect its rich and tumultuous past. Berlin is known for its thriving art scene and over 170 museums and galleries. Many world-renowned artists have painted murals... See full list on mappr.co Berlin, the capital city, boasts many activities and sights to explore. Let’s delve into some of the most frequented attractions and landmarks in Berlin: See full list on mappr.co Berlin is a city well worth visiting. Its rich and complex history, vibrant arts and culture, and mouth-watering cuisine offer something for everyone. From exploring historical landmarks to experiencing the thriving nightlife, every corner of the city tells a story. Despite its past, Berlin has grown into a diverse and inclusive city that continues... See full list on mappr.co Learn about Berlin , the capital of Germany, and its rich and turbulent history, diverse culture, and vibrant economy. Find out where Berlin is located, how it became the capital, and what attractions it offers. See full list on mappr.co Aug 1, 2017 · Learn about the history, geography, and attractions of Berlin, the largest and most populous city in Germany. Find out how Berlin became the capital of Germany after the reunification of East and West Germany in 1990. Apr 22, 2023 · Learn about the history, landmarks, and culture of Berlin, the capital of Germany. Find out why Berlin was chosen as the capital of a reunified Germany and how it became a symbol of unity and a hub for art and innovation. Is Bonn the capital of Germany? East Berlin was declared the capital of East Germany, while Bonn became the West German capital . Following German reunification in 1990, Berlin once again became the capital of all of Germany. Due to its geographic location and history, Berlin has been called \"the heart of Europe\". Why is Berlin the capital of Germany? Berlin, capital and chief urban centre of Germany . The city lies at the heart of the North German Plain, athwart an east-west commercial and geographic axis that helped make it the capital of the kingdom of Prussia and then, from 1871, of a unified Germany . Berlin’s former glory ended in 1945, but the city survived the destruction of World War II. What is the largest city in Germany? With an area of 344.3 square miles, Berlin , Germany’s capital, is the largest city in the country. Berlin is also one of the densely populated cities in the European Union with a metropolitan population of more than six million people as of 2016. About 95% of the people living in Berlin are of German origin. What was the capital of Germany before WW2? The capital of pre- World War II Germany had been Berlin , and the capital of East Germany had been East Berlin. West Germany moved the capital city to Bonn following the split into two countries. Following unification, Germany's parliament, the Bundestag, initially began meeting in Bonn. What is the current capital of Germany? In the case of Germany, Berlin is the current capital and serves as a major center of political, cultural, and economic activity. Before Berlin became the capital of Germany, the country had several other capitals. In 1871, the first capital of Germany was Frankfurt am Main, followed by Berlin in 1871. When did Germany become the capital of Germany? After the fall of the Berlin Wall in 1989 and the subsequent reunification of Germany in 1990 , Berlin was again chosen as the capital of the reunified Germany. The German Parliament, the Bundestag, moved back to Berlin from Bonn in 1999, marking the city’s restoration as the country’s capital. Jul 27, 2019 · Learn how Germany decided to move its capital from Bonn to Berlin after reunification in 1990, and what role Bonn still plays as the Federal City. Find out the history, challenges, and costs of having two capital cities in Germany. Berlin is the capital city of Germany , find here Berlin location on Germany map along with know interesting facts about the city. Aug 1, 2017 · Learn about the history, geography, and attractions of Berlin, the largest and most populous city in Germany. Find out how Berlin became the capital of Germany after the reunification of East and West Germany in 1990. Apr 22, 2023 · Learn about the history, landmarks, and culture of Berlin, the capital of Germany. Find out why Berlin was chosen as the capital of a reunified Germany and how it became a symbol of unity and a hub for art and innovation.\u001b[0m\u001b[32;1m\u001b[1;3mAction: get_temperature\n",
      "Action Input: Berlin\u001b[0m\u001b[33;1m\u001b[1;3m{'temperature': '25 °C', 'wind': '16 km/h', 'description': 'Partly cloudy', 'forecast': [{'day': '1', 'temperature': '26 °C', 'wind': '13 km/h'}, {'day': '2', 'temperature': '21 °C', 'wind': '3 km/h'}, {'day': '3', 'temperature': '18 °C', 'wind': '15 km/h'}]}\u001b[0m\u001b[32;1m\u001b[1;3mI now know the final answer\n",
      "Final Answer: The capital of Germany is Berlin. The current temperature in Berlin is 25 °C.\u001b[0m\n",
      "\n",
      "\u001b[1m> Finished chain.\u001b[0m\n"
     ]
    }
   ],
   "source": [
    "result = agent_executor.invoke(\n",
    "    {\"input\": \"What is the capital of Germany. Also find its temperature\"}\n",
    ")"
   ]
  },
  {
   "cell_type": "code",
   "execution_count": 27,
   "id": "120baac3",
   "metadata": {},
   "outputs": [
    {
     "name": "stdout",
     "output_type": "stream",
     "text": [
      "{'input': 'What is the capital of Germany. Also find its temperature', 'output': 'The capital of Germany is Berlin. The current temperature in Berlin is 25 °C.'}\n"
     ]
    }
   ],
   "source": [
    "print(result)"
   ]
  },
  {
   "cell_type": "code",
   "execution_count": null,
   "id": "51d5d2e7",
   "metadata": {},
   "outputs": [
    {
     "data": {
      "text/plain": [
       "'The capital of Germany is Berlin. The current temperature in Berlin is 25 °C.'"
      ]
     },
     "execution_count": 28,
     "metadata": {},
     "output_type": "execute_result"
    }
   ],
   "source": [
    "result[\"output\"]"
   ]
  },
  {
   "cell_type": "markdown",
   "id": "28015dac",
   "metadata": {},
   "source": [
    "This is not the capable way to Scale and create Solid Ai Agents.\n",
    "\n",
    "For that we need to Study **Langraph**\n"
   ]
  }
 ],
 "metadata": {
  "kernelspec": {
   "display_name": "langchain-tutorials (3.12.6)",
   "language": "python",
   "name": "python3"
  },
  "language_info": {
   "codemirror_mode": {
    "name": "ipython",
    "version": 3
   },
   "file_extension": ".py",
   "mimetype": "text/x-python",
   "name": "python",
   "nbconvert_exporter": "python",
   "pygments_lexer": "ipython3",
   "version": "3.12.6"
  }
 },
 "nbformat": 4,
 "nbformat_minor": 5
}
