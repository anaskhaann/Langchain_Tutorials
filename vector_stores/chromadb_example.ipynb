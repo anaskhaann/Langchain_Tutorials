{
 "cells": [
  {
   "cell_type": "code",
   "execution_count": 1,
   "id": "c953ea80",
   "metadata": {},
   "outputs": [
    {
     "name": "stderr",
     "output_type": "stream",
     "text": [
      "d:\\Projects\\Langchain\\.venv\\Lib\\site-packages\\tqdm\\auto.py:21: TqdmWarning: IProgress not found. Please update jupyter and ipywidgets. See https://ipywidgets.readthedocs.io/en/stable/user_install.html\n",
      "  from .autonotebook import tqdm as notebook_tqdm\n"
     ]
    }
   ],
   "source": [
    "from dotenv import load_dotenv\n",
    "from langchain.schema import Document\n",
    "from langchain.vectorstores import Chroma\n",
    "from langchain_google_genai.embeddings import GoogleGenerativeAIEmbeddings"
   ]
  },
  {
   "cell_type": "code",
   "execution_count": 2,
   "id": "490dd396",
   "metadata": {},
   "outputs": [
    {
     "data": {
      "text/plain": [
       "True"
      ]
     },
     "execution_count": 2,
     "metadata": {},
     "output_type": "execute_result"
    }
   ],
   "source": [
    "load_dotenv()"
   ]
  },
  {
   "cell_type": "code",
   "execution_count": 3,
   "id": "ea2cf208",
   "metadata": {},
   "outputs": [],
   "source": [
    "# Create langchain documents for ipl players\n",
    "doc1 = Document(\n",
    "    page_content=\"Virat Kohli is one of the most successful and consistent batsmen in IPL history. Known for his aggressive batting style and fitness, he has led the Royal Challengers Bangalore in multiple seasons.\",\n",
    "    metadata={\"team\": \"Royal Challengers Bangalore\"},\n",
    ")\n",
    "doc2 = Document(\n",
    "    page_content=\"Rohit Sharma is the most successful captain in IPL history, leading Mumbai Indians to five titles. He's known for his calm demeanor and ability to play big innings under pressure.\",\n",
    "    metadata={\"team\": \"Mumbai Indians\"},\n",
    ")\n",
    "doc3 = Document(\n",
    "    page_content=\"MS Dhoni, famously known as Captain Cool, has led Chennai Super Kings to multiple IPL titles. His finishing skills, wicketkeeping, and leadership are legendary.\",\n",
    "    metadata={\"team\": \"Chennai Super Kings\"},\n",
    ")\n",
    "doc4 = Document(\n",
    "    page_content=\"Jasprit Bumrah is considered one of the best fast bowlers in T20 cricket. Playing for Mumbai Indians, he is known for his yorkers and death-over expertise.\",\n",
    "    metadata={\"team\": \"Mumbai Indians\"},\n",
    ")\n",
    "doc5 = Document(\n",
    "    page_content=\"Ravindra Jadeja is a dynamic all-rounder who contributes with both bat and ball. Representing Chennai Super Kings, his quick fielding and match-winning performances make him a key player.\",\n",
    "    metadata={\"team\": \"Chennai Super Kings\"},\n",
    ")"
   ]
  },
  {
   "cell_type": "code",
   "execution_count": 4,
   "id": "cd7a676d",
   "metadata": {},
   "outputs": [],
   "source": [
    "# create list of docs\n",
    "docs = [doc1, doc2, doc3, doc4, doc5]\n"
   ]
  },
  {
   "cell_type": "code",
   "execution_count": 5,
   "id": "aa113328",
   "metadata": {},
   "outputs": [
    {
     "name": "stderr",
     "output_type": "stream",
     "text": [
      "C:\\Users\\anasn\\AppData\\Local\\Temp\\ipykernel_6960\\479021877.py:2: LangChainDeprecationWarning: The class `Chroma` was deprecated in LangChain 0.2.9 and will be removed in 1.0. An updated version of the class exists in the :class:`~langchain-chroma package and should be used instead. To use it run `pip install -U :class:`~langchain-chroma` and import as `from :class:`~langchain_chroma import Chroma``.\n",
      "  vector_store = Chroma(\n"
     ]
    }
   ],
   "source": [
    "# create a vectore store\n",
    "vector_store = Chroma(\n",
    "    # how we are doing embeddings\n",
    "    embedding_function=GoogleGenerativeAIEmbeddings(\n",
    "        model=\"models/gemini-embedding-001\"\n",
    "    ),\n",
    "    # where to store the embeddings\n",
    "    persist_directory=\"my_chroma_db\",\n",
    "    # table name i.e collections sample\n",
    "    collection_name=\"sample\",\n",
    ")"
   ]
  },
  {
   "cell_type": "code",
   "execution_count": 6,
   "id": "5aa2950e",
   "metadata": {},
   "outputs": [
    {
     "data": {
      "text/plain": [
       "['10013bca-bf37-49cc-aac9-da45d249a064',\n",
       " '96d99415-a0b6-4cf3-8206-abc31450b78b',\n",
       " '1b30392d-970c-4afc-851c-0b7e6108a9e0',\n",
       " 'ea234858-2d10-4827-b12e-734d38e27423',\n",
       " '9700bcd4-9a74-4c38-a04a-2a7c04d812ce']"
      ]
     },
     "execution_count": 6,
     "metadata": {},
     "output_type": "execute_result"
    }
   ],
   "source": [
    "# add documents\n",
    "\"\"\"Each document will be assigned a unique id.\n",
    "But we can also decide how to pass unique id\"\"\"\n",
    "vector_store.add_documents(docs)\n"
   ]
  },
  {
   "cell_type": "code",
   "execution_count": 8,
   "id": "43b05acf",
   "metadata": {},
   "outputs": [
    {
     "data": {
      "text/plain": [
       "{'ids': ['10013bca-bf37-49cc-aac9-da45d249a064',\n",
       "  '96d99415-a0b6-4cf3-8206-abc31450b78b',\n",
       "  '1b30392d-970c-4afc-851c-0b7e6108a9e0',\n",
       "  'ea234858-2d10-4827-b12e-734d38e27423',\n",
       "  '9700bcd4-9a74-4c38-a04a-2a7c04d812ce'],\n",
       " 'embeddings': array([[-0.00982054,  0.02545763,  0.02402782, ...,  0.01414876,\n",
       "         -0.01560954, -0.00266117],\n",
       "        [-0.01989721,  0.01092714,  0.01730603, ...,  0.00973945,\n",
       "         -0.0176257 , -0.00460104],\n",
       "        [-0.01358705, -0.00359449,  0.01163961, ...,  0.01149882,\n",
       "         -0.02098301,  0.00373549],\n",
       "        [-0.01261678, -0.00227585,  0.00470995, ..., -0.00144414,\n",
       "          0.00646786, -0.00529741],\n",
       "        [-0.01413488, -0.02750698,  0.01302837, ...,  0.00987475,\n",
       "         -0.00950909, -0.00272136]], shape=(5, 3072)),\n",
       " 'documents': ['Virat Kohli is one of the most successful and consistent batsmen in IPL history. Known for his aggressive batting style and fitness, he has led the Royal Challengers Bangalore in multiple seasons.',\n",
       "  \"Rohit Sharma is the most successful captain in IPL history, leading Mumbai Indians to five titles. He's known for his calm demeanor and ability to play big innings under pressure.\",\n",
       "  'MS Dhoni, famously known as Captain Cool, has led Chennai Super Kings to multiple IPL titles. His finishing skills, wicketkeeping, and leadership are legendary.',\n",
       "  'Jasprit Bumrah is considered one of the best fast bowlers in T20 cricket. Playing for Mumbai Indians, he is known for his yorkers and death-over expertise.',\n",
       "  'Ravindra Jadeja is a dynamic all-rounder who contributes with both bat and ball. Representing Chennai Super Kings, his quick fielding and match-winning performances make him a key player.'],\n",
       " 'uris': None,\n",
       " 'included': ['embeddings', 'documents', 'metadatas'],\n",
       " 'data': None,\n",
       " 'metadatas': [{'team': 'Royal Challengers Bangalore'},\n",
       "  {'team': 'Mumbai Indians'},\n",
       "  {'team': 'Chennai Super Kings'},\n",
       "  {'team': 'Mumbai Indians'},\n",
       "  {'team': 'Chennai Super Kings'}]}"
      ]
     },
     "execution_count": 8,
     "metadata": {},
     "output_type": "execute_result"
    }
   ],
   "source": [
    "# view documents\n",
    "vector_store.get(include=[\"embeddings\", \"documents\", \"metadatas\"])"
   ]
  },
  {
   "cell_type": "code",
   "execution_count": 9,
   "id": "e2fcaf57",
   "metadata": {},
   "outputs": [
    {
     "data": {
      "text/plain": [
       "[Document(metadata={'team': 'Mumbai Indians'}, page_content='Jasprit Bumrah is considered one of the best fast bowlers in T20 cricket. Playing for Mumbai Indians, he is known for his yorkers and death-over expertise.')]"
      ]
     },
     "execution_count": 9,
     "metadata": {},
     "output_type": "execute_result"
    }
   ],
   "source": [
    "# search documents(similarity search)\n",
    "vector_store.similarity_search(\n",
    "    query=\"Who among these are a bowler?\",\n",
    "    k=1,  # k stands for how many similar objects we need to show\n",
    ")"
   ]
  },
  {
   "cell_type": "code",
   "execution_count": 10,
   "id": "d3c4803e",
   "metadata": {},
   "outputs": [
    {
     "data": {
      "text/plain": [
       "[(Document(metadata={'team': 'Mumbai Indians'}, page_content='Jasprit Bumrah is considered one of the best fast bowlers in T20 cricket. Playing for Mumbai Indians, he is known for his yorkers and death-over expertise.'),\n",
       "  0.6406819820404053)]"
      ]
     },
     "execution_count": 10,
     "metadata": {},
     "output_type": "execute_result"
    }
   ],
   "source": [
    "# search documents (similarity with score-->distance)\n",
    "vector_store.similarity_search_with_score(query=\"Who among these are a bowler?\", k=1)\n"
   ]
  },
  {
   "cell_type": "code",
   "execution_count": 14,
   "id": "b18e5792",
   "metadata": {},
   "outputs": [],
   "source": [
    "# # filtering over meta data\n",
    "# vector_store.similarity_search(\n",
    "#     query=\"\",\n",
    "#     # filter are used to pass meta data\n",
    "#     filter={\"team\": \"Chennai Super Kings\"},\n",
    "# )"
   ]
  },
  {
   "cell_type": "markdown",
   "id": "caad90a5",
   "metadata": {},
   "source": [
    "**update document**\n"
   ]
  },
  {
   "cell_type": "code",
   "execution_count": 15,
   "id": "46910042",
   "metadata": {},
   "outputs": [],
   "source": [
    "# update documents\n",
    "updated_doc1 = Document(\n",
    "    page_content=\"Virat Kohli, the former captain of Royal Challengers Bangalore (RCB), is renowned for his aggressive leadership and consistent batting performances. He holds the record for the most runs in IPL history, including multiple centuries in a single season. Despite RCB not winning an IPL title under his captaincy, Kohli's passion and fitness set a benchmark for the league. His ability to chase targets and anchor innings has made him one of the most dependable players in T20 cricket.\",\n",
    "    metadata={\"team\": \"Royal Challengers Bangalore\"},\n",
    ")"
   ]
  },
  {
   "cell_type": "code",
   "execution_count": 16,
   "id": "afb25e2f",
   "metadata": {},
   "outputs": [],
   "source": [
    "# pass the document id which we get at the time of creating the vector store document\n",
    "vector_store.update_document(\n",
    "    document_id=\"10013bca-bf37-49cc-aac9-da45d249a064\", document=updated_doc1\n",
    ")"
   ]
  },
  {
   "cell_type": "code",
   "execution_count": 17,
   "id": "d4115896",
   "metadata": {},
   "outputs": [
    {
     "data": {
      "text/plain": [
       "{'ids': ['10013bca-bf37-49cc-aac9-da45d249a064',\n",
       "  '96d99415-a0b6-4cf3-8206-abc31450b78b',\n",
       "  '1b30392d-970c-4afc-851c-0b7e6108a9e0',\n",
       "  'ea234858-2d10-4827-b12e-734d38e27423',\n",
       "  '9700bcd4-9a74-4c38-a04a-2a7c04d812ce'],\n",
       " 'embeddings': array([[-0.00719311,  0.02029932,  0.02837158, ...,  0.01391   ,\n",
       "         -0.01240376, -0.00345245],\n",
       "        [-0.01989721,  0.01092714,  0.01730603, ...,  0.00973945,\n",
       "         -0.0176257 , -0.00460104],\n",
       "        [-0.01358705, -0.00359449,  0.01163961, ...,  0.01149882,\n",
       "         -0.02098301,  0.00373549],\n",
       "        [-0.01261678, -0.00227585,  0.00470995, ..., -0.00144414,\n",
       "          0.00646786, -0.00529741],\n",
       "        [-0.01413488, -0.02750698,  0.01302837, ...,  0.00987475,\n",
       "         -0.00950909, -0.00272136]], shape=(5, 3072)),\n",
       " 'documents': [\"Virat Kohli, the former captain of Royal Challengers Bangalore (RCB), is renowned for his aggressive leadership and consistent batting performances. He holds the record for the most runs in IPL history, including multiple centuries in a single season. Despite RCB not winning an IPL title under his captaincy, Kohli's passion and fitness set a benchmark for the league. His ability to chase targets and anchor innings has made him one of the most dependable players in T20 cricket.\",\n",
       "  \"Rohit Sharma is the most successful captain in IPL history, leading Mumbai Indians to five titles. He's known for his calm demeanor and ability to play big innings under pressure.\",\n",
       "  'MS Dhoni, famously known as Captain Cool, has led Chennai Super Kings to multiple IPL titles. His finishing skills, wicketkeeping, and leadership are legendary.',\n",
       "  'Jasprit Bumrah is considered one of the best fast bowlers in T20 cricket. Playing for Mumbai Indians, he is known for his yorkers and death-over expertise.',\n",
       "  'Ravindra Jadeja is a dynamic all-rounder who contributes with both bat and ball. Representing Chennai Super Kings, his quick fielding and match-winning performances make him a key player.'],\n",
       " 'uris': None,\n",
       " 'included': ['embeddings', 'documents', 'metadatas'],\n",
       " 'data': None,\n",
       " 'metadatas': [{'team': 'Royal Challengers Bangalore'},\n",
       "  {'team': 'Mumbai Indians'},\n",
       "  {'team': 'Chennai Super Kings'},\n",
       "  {'team': 'Mumbai Indians'},\n",
       "  {'team': 'Chennai Super Kings'}]}"
      ]
     },
     "execution_count": 17,
     "metadata": {},
     "output_type": "execute_result"
    }
   ],
   "source": [
    "vector_store.get(include=[\"embeddings\", \"documents\", \"metadatas\"])"
   ]
  },
  {
   "cell_type": "markdown",
   "id": "cd007f33",
   "metadata": {},
   "source": [
    "**Delete Document**\n"
   ]
  },
  {
   "cell_type": "code",
   "execution_count": 20,
   "id": "0deb6422",
   "metadata": {},
   "outputs": [],
   "source": [
    "# delete document\n",
    "vector_store.delete(ids=[\"10013bca-bf37-49cc-aac9-da45d249a064\"])\n"
   ]
  },
  {
   "cell_type": "code",
   "execution_count": 21,
   "id": "996b3b9f",
   "metadata": {},
   "outputs": [
    {
     "data": {
      "text/plain": [
       "{'ids': ['96d99415-a0b6-4cf3-8206-abc31450b78b',\n",
       "  '1b30392d-970c-4afc-851c-0b7e6108a9e0',\n",
       "  'ea234858-2d10-4827-b12e-734d38e27423',\n",
       "  '9700bcd4-9a74-4c38-a04a-2a7c04d812ce'],\n",
       " 'embeddings': array([[-0.01989721,  0.01092714,  0.01730603, ...,  0.00973945,\n",
       "         -0.0176257 , -0.00460104],\n",
       "        [-0.01358705, -0.00359449,  0.01163961, ...,  0.01149882,\n",
       "         -0.02098301,  0.00373549],\n",
       "        [-0.01261678, -0.00227585,  0.00470995, ..., -0.00144414,\n",
       "          0.00646786, -0.00529741],\n",
       "        [-0.01413488, -0.02750698,  0.01302837, ...,  0.00987475,\n",
       "         -0.00950909, -0.00272136]], shape=(4, 3072)),\n",
       " 'documents': [\"Rohit Sharma is the most successful captain in IPL history, leading Mumbai Indians to five titles. He's known for his calm demeanor and ability to play big innings under pressure.\",\n",
       "  'MS Dhoni, famously known as Captain Cool, has led Chennai Super Kings to multiple IPL titles. His finishing skills, wicketkeeping, and leadership are legendary.',\n",
       "  'Jasprit Bumrah is considered one of the best fast bowlers in T20 cricket. Playing for Mumbai Indians, he is known for his yorkers and death-over expertise.',\n",
       "  'Ravindra Jadeja is a dynamic all-rounder who contributes with both bat and ball. Representing Chennai Super Kings, his quick fielding and match-winning performances make him a key player.'],\n",
       " 'uris': None,\n",
       " 'included': ['embeddings', 'documents', 'metadatas'],\n",
       " 'data': None,\n",
       " 'metadatas': [{'team': 'Mumbai Indians'},\n",
       "  {'team': 'Chennai Super Kings'},\n",
       "  {'team': 'Mumbai Indians'},\n",
       "  {'team': 'Chennai Super Kings'}]}"
      ]
     },
     "execution_count": 21,
     "metadata": {},
     "output_type": "execute_result"
    }
   ],
   "source": [
    "vector_store.get(include=[\"embeddings\", \"documents\", \"metadatas\"])\n"
   ]
  },
  {
   "cell_type": "code",
   "execution_count": null,
   "id": "d2446b2e",
   "metadata": {},
   "outputs": [],
   "source": []
  }
 ],
 "metadata": {
  "kernelspec": {
   "display_name": "langchain-tutorials (3.12.6)",
   "language": "python",
   "name": "python3"
  },
  "language_info": {
   "codemirror_mode": {
    "name": "ipython",
    "version": 3
   },
   "file_extension": ".py",
   "mimetype": "text/x-python",
   "name": "python",
   "nbconvert_exporter": "python",
   "pygments_lexer": "ipython3",
   "version": "3.12.6"
  }
 },
 "nbformat": 4,
 "nbformat_minor": 5
}
