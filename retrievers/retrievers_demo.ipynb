{
  "cells": [
    {
      "cell_type": "code",
      "execution_count": 2,
      "id": "KxX1EweFGJ-m",
      "metadata": {
        "colab": {
          "base_uri": "https://localhost:8080/"
        },
        "collapsed": true,
        "id": "KxX1EweFGJ-m",
        "outputId": "4fb05fbb-f4c4-4038-d437-7a1f9317d6dc"
      },
      "outputs": [
        {
          "name": "stdout",
          "output_type": "stream",
          "text": [
            "Requirement already satisfied: langchain in /usr/local/lib/python3.12/dist-packages (0.3.27)\n",
            "Requirement already satisfied: chromadb in /usr/local/lib/python3.12/dist-packages (1.0.20)\n",
            "Requirement already satisfied: faiss-cpu in /usr/local/lib/python3.12/dist-packages (1.12.0)\n",
            "Requirement already satisfied: tiktoken in /usr/local/lib/python3.12/dist-packages (0.11.0)\n",
            "Requirement already satisfied: langchain_google_genai in /usr/local/lib/python3.12/dist-packages (2.1.10)\n",
            "Requirement already satisfied: langchain-community in /usr/local/lib/python3.12/dist-packages (0.3.29)\n",
            "Requirement already satisfied: wikipedia in /usr/local/lib/python3.12/dist-packages (1.4.0)\n",
            "Requirement already satisfied: langchain-core<1.0.0,>=0.3.72 in /usr/local/lib/python3.12/dist-packages (from langchain) (0.3.75)\n",
            "Requirement already satisfied: langchain-text-splitters<1.0.0,>=0.3.9 in /usr/local/lib/python3.12/dist-packages (from langchain) (0.3.11)\n",
            "Requirement already satisfied: langsmith>=0.1.17 in /usr/local/lib/python3.12/dist-packages (from langchain) (0.4.23)\n",
            "Requirement already satisfied: pydantic<3.0.0,>=2.7.4 in /usr/local/lib/python3.12/dist-packages (from langchain) (2.11.7)\n",
            "Requirement already satisfied: SQLAlchemy<3,>=1.4 in /usr/local/lib/python3.12/dist-packages (from langchain) (2.0.43)\n",
            "Requirement already satisfied: requests<3,>=2 in /usr/local/lib/python3.12/dist-packages (from langchain) (2.32.5)\n",
            "Requirement already satisfied: PyYAML>=5.3 in /usr/local/lib/python3.12/dist-packages (from langchain) (6.0.2)\n",
            "Requirement already satisfied: build>=1.0.3 in /usr/local/lib/python3.12/dist-packages (from chromadb) (1.3.0)\n",
            "Requirement already satisfied: pybase64>=1.4.1 in /usr/local/lib/python3.12/dist-packages (from chromadb) (1.4.2)\n",
            "Requirement already satisfied: uvicorn>=0.18.3 in /usr/local/lib/python3.12/dist-packages (from uvicorn[standard]>=0.18.3->chromadb) (0.35.0)\n",
            "Requirement already satisfied: numpy>=1.22.5 in /usr/local/lib/python3.12/dist-packages (from chromadb) (2.0.2)\n",
            "Requirement already satisfied: posthog<6.0.0,>=2.4.0 in /usr/local/lib/python3.12/dist-packages (from chromadb) (5.4.0)\n",
            "Requirement already satisfied: typing-extensions>=4.5.0 in /usr/local/lib/python3.12/dist-packages (from chromadb) (4.15.0)\n",
            "Requirement already satisfied: onnxruntime>=1.14.1 in /usr/local/lib/python3.12/dist-packages (from chromadb) (1.22.1)\n",
            "Requirement already satisfied: opentelemetry-api>=1.2.0 in /usr/local/lib/python3.12/dist-packages (from chromadb) (1.36.0)\n",
            "Requirement already satisfied: opentelemetry-exporter-otlp-proto-grpc>=1.2.0 in /usr/local/lib/python3.12/dist-packages (from chromadb) (1.36.0)\n",
            "Requirement already satisfied: opentelemetry-sdk>=1.2.0 in /usr/local/lib/python3.12/dist-packages (from chromadb) (1.36.0)\n",
            "Requirement already satisfied: tokenizers>=0.13.2 in /usr/local/lib/python3.12/dist-packages (from chromadb) (0.22.0)\n",
            "Requirement already satisfied: pypika>=0.48.9 in /usr/local/lib/python3.12/dist-packages (from chromadb) (0.48.9)\n",
            "Requirement already satisfied: tqdm>=4.65.0 in /usr/local/lib/python3.12/dist-packages (from chromadb) (4.67.1)\n",
            "Requirement already satisfied: overrides>=7.3.1 in /usr/local/lib/python3.12/dist-packages (from chromadb) (7.7.0)\n",
            "Requirement already satisfied: importlib-resources in /usr/local/lib/python3.12/dist-packages (from chromadb) (6.5.2)\n",
            "Requirement already satisfied: grpcio>=1.58.0 in /usr/local/lib/python3.12/dist-packages (from chromadb) (1.74.0)\n",
            "Requirement already satisfied: bcrypt>=4.0.1 in /usr/local/lib/python3.12/dist-packages (from chromadb) (4.3.0)\n",
            "Requirement already satisfied: typer>=0.9.0 in /usr/local/lib/python3.12/dist-packages (from chromadb) (0.17.3)\n",
            "Requirement already satisfied: kubernetes>=28.1.0 in /usr/local/lib/python3.12/dist-packages (from chromadb) (33.1.0)\n",
            "Requirement already satisfied: tenacity>=8.2.3 in /usr/local/lib/python3.12/dist-packages (from chromadb) (8.5.0)\n",
            "Requirement already satisfied: mmh3>=4.0.1 in /usr/local/lib/python3.12/dist-packages (from chromadb) (5.2.0)\n",
            "Requirement already satisfied: orjson>=3.9.12 in /usr/local/lib/python3.12/dist-packages (from chromadb) (3.11.3)\n",
            "Requirement already satisfied: httpx>=0.27.0 in /usr/local/lib/python3.12/dist-packages (from chromadb) (0.28.1)\n",
            "Requirement already satisfied: rich>=10.11.0 in /usr/local/lib/python3.12/dist-packages (from chromadb) (13.9.4)\n",
            "Requirement already satisfied: jsonschema>=4.19.0 in /usr/local/lib/python3.12/dist-packages (from chromadb) (4.25.1)\n",
            "Requirement already satisfied: packaging in /usr/local/lib/python3.12/dist-packages (from faiss-cpu) (25.0)\n",
            "Requirement already satisfied: regex>=2022.1.18 in /usr/local/lib/python3.12/dist-packages (from tiktoken) (2024.11.6)\n",
            "Requirement already satisfied: filetype<2.0.0,>=1.2.0 in /usr/local/lib/python3.12/dist-packages (from langchain_google_genai) (1.2.0)\n",
            "Requirement already satisfied: google-ai-generativelanguage<0.7.0,>=0.6.18 in /usr/local/lib/python3.12/dist-packages (from langchain_google_genai) (0.6.18)\n",
            "Requirement already satisfied: aiohttp<4.0.0,>=3.8.3 in /usr/local/lib/python3.12/dist-packages (from langchain-community) (3.12.15)\n",
            "Requirement already satisfied: dataclasses-json<0.7,>=0.6.7 in /usr/local/lib/python3.12/dist-packages (from langchain-community) (0.6.7)\n",
            "Requirement already satisfied: pydantic-settings<3.0.0,>=2.10.1 in /usr/local/lib/python3.12/dist-packages (from langchain-community) (2.10.1)\n",
            "Requirement already satisfied: httpx-sse<1.0.0,>=0.4.0 in /usr/local/lib/python3.12/dist-packages (from langchain-community) (0.4.1)\n",
            "Requirement already satisfied: beautifulsoup4 in /usr/local/lib/python3.12/dist-packages (from wikipedia) (4.13.5)\n",
            "Requirement already satisfied: aiohappyeyeballs>=2.5.0 in /usr/local/lib/python3.12/dist-packages (from aiohttp<4.0.0,>=3.8.3->langchain-community) (2.6.1)\n",
            "Requirement already satisfied: aiosignal>=1.4.0 in /usr/local/lib/python3.12/dist-packages (from aiohttp<4.0.0,>=3.8.3->langchain-community) (1.4.0)\n",
            "Requirement already satisfied: attrs>=17.3.0 in /usr/local/lib/python3.12/dist-packages (from aiohttp<4.0.0,>=3.8.3->langchain-community) (25.3.0)\n",
            "Requirement already satisfied: frozenlist>=1.1.1 in /usr/local/lib/python3.12/dist-packages (from aiohttp<4.0.0,>=3.8.3->langchain-community) (1.7.0)\n",
            "Requirement already satisfied: multidict<7.0,>=4.5 in /usr/local/lib/python3.12/dist-packages (from aiohttp<4.0.0,>=3.8.3->langchain-community) (6.6.4)\n",
            "Requirement already satisfied: propcache>=0.2.0 in /usr/local/lib/python3.12/dist-packages (from aiohttp<4.0.0,>=3.8.3->langchain-community) (0.3.2)\n",
            "Requirement already satisfied: yarl<2.0,>=1.17.0 in /usr/local/lib/python3.12/dist-packages (from aiohttp<4.0.0,>=3.8.3->langchain-community) (1.20.1)\n",
            "Requirement already satisfied: pyproject_hooks in /usr/local/lib/python3.12/dist-packages (from build>=1.0.3->chromadb) (1.2.0)\n",
            "Requirement already satisfied: marshmallow<4.0.0,>=3.18.0 in /usr/local/lib/python3.12/dist-packages (from dataclasses-json<0.7,>=0.6.7->langchain-community) (3.26.1)\n",
            "Requirement already satisfied: typing-inspect<1,>=0.4.0 in /usr/local/lib/python3.12/dist-packages (from dataclasses-json<0.7,>=0.6.7->langchain-community) (0.9.0)\n",
            "Requirement already satisfied: google-api-core!=2.0.*,!=2.1.*,!=2.10.*,!=2.2.*,!=2.3.*,!=2.4.*,!=2.5.*,!=2.6.*,!=2.7.*,!=2.8.*,!=2.9.*,<3.0.0,>=1.34.1 in /usr/local/lib/python3.12/dist-packages (from google-api-core[grpc]!=2.0.*,!=2.1.*,!=2.10.*,!=2.2.*,!=2.3.*,!=2.4.*,!=2.5.*,!=2.6.*,!=2.7.*,!=2.8.*,!=2.9.*,<3.0.0,>=1.34.1->google-ai-generativelanguage<0.7.0,>=0.6.18->langchain_google_genai) (2.25.1)\n",
            "Requirement already satisfied: google-auth!=2.24.0,!=2.25.0,<3.0.0,>=2.14.1 in /usr/local/lib/python3.12/dist-packages (from google-ai-generativelanguage<0.7.0,>=0.6.18->langchain_google_genai) (2.38.0)\n",
            "Requirement already satisfied: proto-plus<2.0.0,>=1.22.3 in /usr/local/lib/python3.12/dist-packages (from google-ai-generativelanguage<0.7.0,>=0.6.18->langchain_google_genai) (1.26.1)\n",
            "Requirement already satisfied: protobuf!=4.21.0,!=4.21.1,!=4.21.2,!=4.21.3,!=4.21.4,!=4.21.5,<7.0.0,>=3.20.2 in /usr/local/lib/python3.12/dist-packages (from google-ai-generativelanguage<0.7.0,>=0.6.18->langchain_google_genai) (5.29.5)\n",
            "Requirement already satisfied: anyio in /usr/local/lib/python3.12/dist-packages (from httpx>=0.27.0->chromadb) (4.10.0)\n",
            "Requirement already satisfied: certifi in /usr/local/lib/python3.12/dist-packages (from httpx>=0.27.0->chromadb) (2025.8.3)\n",
            "Requirement already satisfied: httpcore==1.* in /usr/local/lib/python3.12/dist-packages (from httpx>=0.27.0->chromadb) (1.0.9)\n",
            "Requirement already satisfied: idna in /usr/local/lib/python3.12/dist-packages (from httpx>=0.27.0->chromadb) (3.10)\n",
            "Requirement already satisfied: h11>=0.16 in /usr/local/lib/python3.12/dist-packages (from httpcore==1.*->httpx>=0.27.0->chromadb) (0.16.0)\n",
            "Requirement already satisfied: jsonschema-specifications>=2023.03.6 in /usr/local/lib/python3.12/dist-packages (from jsonschema>=4.19.0->chromadb) (2025.4.1)\n",
            "Requirement already satisfied: referencing>=0.28.4 in /usr/local/lib/python3.12/dist-packages (from jsonschema>=4.19.0->chromadb) (0.36.2)\n",
            "Requirement already satisfied: rpds-py>=0.7.1 in /usr/local/lib/python3.12/dist-packages (from jsonschema>=4.19.0->chromadb) (0.27.1)\n",
            "Requirement already satisfied: six>=1.9.0 in /usr/local/lib/python3.12/dist-packages (from kubernetes>=28.1.0->chromadb) (1.17.0)\n",
            "Requirement already satisfied: python-dateutil>=2.5.3 in /usr/local/lib/python3.12/dist-packages (from kubernetes>=28.1.0->chromadb) (2.9.0.post0)\n",
            "Requirement already satisfied: websocket-client!=0.40.0,!=0.41.*,!=0.42.*,>=0.32.0 in /usr/local/lib/python3.12/dist-packages (from kubernetes>=28.1.0->chromadb) (1.8.0)\n",
            "Requirement already satisfied: requests-oauthlib in /usr/local/lib/python3.12/dist-packages (from kubernetes>=28.1.0->chromadb) (2.0.0)\n",
            "Requirement already satisfied: oauthlib>=3.2.2 in /usr/local/lib/python3.12/dist-packages (from kubernetes>=28.1.0->chromadb) (3.3.1)\n",
            "Requirement already satisfied: urllib3>=1.24.2 in /usr/local/lib/python3.12/dist-packages (from kubernetes>=28.1.0->chromadb) (2.5.0)\n",
            "Requirement already satisfied: durationpy>=0.7 in /usr/local/lib/python3.12/dist-packages (from kubernetes>=28.1.0->chromadb) (0.10)\n",
            "Requirement already satisfied: jsonpatch<2.0,>=1.33 in /usr/local/lib/python3.12/dist-packages (from langchain-core<1.0.0,>=0.3.72->langchain) (1.33)\n",
            "Requirement already satisfied: requests-toolbelt>=1.0.0 in /usr/local/lib/python3.12/dist-packages (from langsmith>=0.1.17->langchain) (1.0.0)\n",
            "Requirement already satisfied: zstandard>=0.23.0 in /usr/local/lib/python3.12/dist-packages (from langsmith>=0.1.17->langchain) (0.24.0)\n",
            "Requirement already satisfied: coloredlogs in /usr/local/lib/python3.12/dist-packages (from onnxruntime>=1.14.1->chromadb) (15.0.1)\n",
            "Requirement already satisfied: flatbuffers in /usr/local/lib/python3.12/dist-packages (from onnxruntime>=1.14.1->chromadb) (25.2.10)\n",
            "Requirement already satisfied: sympy in /usr/local/lib/python3.12/dist-packages (from onnxruntime>=1.14.1->chromadb) (1.13.3)\n",
            "Requirement already satisfied: importlib-metadata<8.8.0,>=6.0 in /usr/local/lib/python3.12/dist-packages (from opentelemetry-api>=1.2.0->chromadb) (8.7.0)\n",
            "Requirement already satisfied: googleapis-common-protos~=1.57 in /usr/local/lib/python3.12/dist-packages (from opentelemetry-exporter-otlp-proto-grpc>=1.2.0->chromadb) (1.70.0)\n",
            "Requirement already satisfied: opentelemetry-exporter-otlp-proto-common==1.36.0 in /usr/local/lib/python3.12/dist-packages (from opentelemetry-exporter-otlp-proto-grpc>=1.2.0->chromadb) (1.36.0)\n",
            "Requirement already satisfied: opentelemetry-proto==1.36.0 in /usr/local/lib/python3.12/dist-packages (from opentelemetry-exporter-otlp-proto-grpc>=1.2.0->chromadb) (1.36.0)\n",
            "Requirement already satisfied: opentelemetry-semantic-conventions==0.57b0 in /usr/local/lib/python3.12/dist-packages (from opentelemetry-sdk>=1.2.0->chromadb) (0.57b0)\n",
            "Requirement already satisfied: backoff>=1.10.0 in /usr/local/lib/python3.12/dist-packages (from posthog<6.0.0,>=2.4.0->chromadb) (2.2.1)\n",
            "Requirement already satisfied: distro>=1.5.0 in /usr/local/lib/python3.12/dist-packages (from posthog<6.0.0,>=2.4.0->chromadb) (1.9.0)\n",
            "Requirement already satisfied: annotated-types>=0.6.0 in /usr/local/lib/python3.12/dist-packages (from pydantic<3.0.0,>=2.7.4->langchain) (0.7.0)\n",
            "Requirement already satisfied: pydantic-core==2.33.2 in /usr/local/lib/python3.12/dist-packages (from pydantic<3.0.0,>=2.7.4->langchain) (2.33.2)\n",
            "Requirement already satisfied: typing-inspection>=0.4.0 in /usr/local/lib/python3.12/dist-packages (from pydantic<3.0.0,>=2.7.4->langchain) (0.4.1)\n",
            "Requirement already satisfied: python-dotenv>=0.21.0 in /usr/local/lib/python3.12/dist-packages (from pydantic-settings<3.0.0,>=2.10.1->langchain-community) (1.1.1)\n",
            "Requirement already satisfied: charset_normalizer<4,>=2 in /usr/local/lib/python3.12/dist-packages (from requests<3,>=2->langchain) (3.4.3)\n",
            "Requirement already satisfied: markdown-it-py>=2.2.0 in /usr/local/lib/python3.12/dist-packages (from rich>=10.11.0->chromadb) (4.0.0)\n",
            "Requirement already satisfied: pygments<3.0.0,>=2.13.0 in /usr/local/lib/python3.12/dist-packages (from rich>=10.11.0->chromadb) (2.19.2)\n",
            "Requirement already satisfied: greenlet>=1 in /usr/local/lib/python3.12/dist-packages (from SQLAlchemy<3,>=1.4->langchain) (3.2.4)\n",
            "Requirement already satisfied: huggingface-hub<1.0,>=0.16.4 in /usr/local/lib/python3.12/dist-packages (from tokenizers>=0.13.2->chromadb) (0.34.4)\n",
            "Requirement already satisfied: click>=8.0.0 in /usr/local/lib/python3.12/dist-packages (from typer>=0.9.0->chromadb) (8.2.1)\n",
            "Requirement already satisfied: shellingham>=1.3.0 in /usr/local/lib/python3.12/dist-packages (from typer>=0.9.0->chromadb) (1.5.4)\n",
            "Requirement already satisfied: httptools>=0.6.3 in /usr/local/lib/python3.12/dist-packages (from uvicorn[standard]>=0.18.3->chromadb) (0.6.4)\n",
            "Requirement already satisfied: uvloop>=0.15.1 in /usr/local/lib/python3.12/dist-packages (from uvicorn[standard]>=0.18.3->chromadb) (0.21.0)\n",
            "Requirement already satisfied: watchfiles>=0.13 in /usr/local/lib/python3.12/dist-packages (from uvicorn[standard]>=0.18.3->chromadb) (1.1.0)\n",
            "Requirement already satisfied: websockets>=10.4 in /usr/local/lib/python3.12/dist-packages (from uvicorn[standard]>=0.18.3->chromadb) (15.0.1)\n",
            "Requirement already satisfied: soupsieve>1.2 in /usr/local/lib/python3.12/dist-packages (from beautifulsoup4->wikipedia) (2.8)\n",
            "Requirement already satisfied: grpcio-status<2.0.0,>=1.33.2 in /usr/local/lib/python3.12/dist-packages (from google-api-core[grpc]!=2.0.*,!=2.1.*,!=2.10.*,!=2.2.*,!=2.3.*,!=2.4.*,!=2.5.*,!=2.6.*,!=2.7.*,!=2.8.*,!=2.9.*,<3.0.0,>=1.34.1->google-ai-generativelanguage<0.7.0,>=0.6.18->langchain_google_genai) (1.71.2)\n",
            "Requirement already satisfied: cachetools<6.0,>=2.0.0 in /usr/local/lib/python3.12/dist-packages (from google-auth!=2.24.0,!=2.25.0,<3.0.0,>=2.14.1->google-ai-generativelanguage<0.7.0,>=0.6.18->langchain_google_genai) (5.5.2)\n",
            "Requirement already satisfied: pyasn1-modules>=0.2.1 in /usr/local/lib/python3.12/dist-packages (from google-auth!=2.24.0,!=2.25.0,<3.0.0,>=2.14.1->google-ai-generativelanguage<0.7.0,>=0.6.18->langchain_google_genai) (0.4.2)\n",
            "Requirement already satisfied: rsa<5,>=3.1.4 in /usr/local/lib/python3.12/dist-packages (from google-auth!=2.24.0,!=2.25.0,<3.0.0,>=2.14.1->google-ai-generativelanguage<0.7.0,>=0.6.18->langchain_google_genai) (4.9.1)\n",
            "Requirement already satisfied: filelock in /usr/local/lib/python3.12/dist-packages (from huggingface-hub<1.0,>=0.16.4->tokenizers>=0.13.2->chromadb) (3.19.1)\n",
            "Requirement already satisfied: fsspec>=2023.5.0 in /usr/local/lib/python3.12/dist-packages (from huggingface-hub<1.0,>=0.16.4->tokenizers>=0.13.2->chromadb) (2025.3.0)\n",
            "Requirement already satisfied: hf-xet<2.0.0,>=1.1.3 in /usr/local/lib/python3.12/dist-packages (from huggingface-hub<1.0,>=0.16.4->tokenizers>=0.13.2->chromadb) (1.1.9)\n",
            "Requirement already satisfied: zipp>=3.20 in /usr/local/lib/python3.12/dist-packages (from importlib-metadata<8.8.0,>=6.0->opentelemetry-api>=1.2.0->chromadb) (3.23.0)\n",
            "Requirement already satisfied: jsonpointer>=1.9 in /usr/local/lib/python3.12/dist-packages (from jsonpatch<2.0,>=1.33->langchain-core<1.0.0,>=0.3.72->langchain) (3.0.0)\n",
            "Requirement already satisfied: mdurl~=0.1 in /usr/local/lib/python3.12/dist-packages (from markdown-it-py>=2.2.0->rich>=10.11.0->chromadb) (0.1.2)\n",
            "Requirement already satisfied: mypy-extensions>=0.3.0 in /usr/local/lib/python3.12/dist-packages (from typing-inspect<1,>=0.4.0->dataclasses-json<0.7,>=0.6.7->langchain-community) (1.1.0)\n",
            "Requirement already satisfied: sniffio>=1.1 in /usr/local/lib/python3.12/dist-packages (from anyio->httpx>=0.27.0->chromadb) (1.3.1)\n",
            "Requirement already satisfied: humanfriendly>=9.1 in /usr/local/lib/python3.12/dist-packages (from coloredlogs->onnxruntime>=1.14.1->chromadb) (10.0)\n",
            "Requirement already satisfied: mpmath<1.4,>=1.1.0 in /usr/local/lib/python3.12/dist-packages (from sympy->onnxruntime>=1.14.1->chromadb) (1.3.0)\n",
            "Requirement already satisfied: pyasn1<0.7.0,>=0.6.1 in /usr/local/lib/python3.12/dist-packages (from pyasn1-modules>=0.2.1->google-auth!=2.24.0,!=2.25.0,<3.0.0,>=2.14.1->google-ai-generativelanguage<0.7.0,>=0.6.18->langchain_google_genai) (0.6.1)\n"
          ]
        }
      ],
      "source": [
        "!pip install langchain chromadb faiss-cpu  tiktoken langchain_google_genai langchain-community wikipedia"
      ]
    },
    {
      "cell_type": "code",
      "execution_count": 3,
      "id": "8d42e171",
      "metadata": {
        "id": "8d42e171"
      },
      "outputs": [],
      "source": [
        "from langchain.schema import Document\n",
        "from langchain.vectorstores import Chroma\n",
        "from langchain_google_genai.embeddings import GoogleGenerativeAIEmbeddings"
      ]
    },
    {
      "cell_type": "markdown",
      "id": "S3ZAt2w-KIiv",
      "metadata": {
        "id": "S3ZAt2w-KIiv"
      },
      "source": [
        "# Retriever Based on Data Source\n"
      ]
    },
    {
      "cell_type": "markdown",
      "id": "a5178559",
      "metadata": {
        "id": "a5178559"
      },
      "source": [
        "## **Wikipedia Retriever**\n"
      ]
    },
    {
      "cell_type": "code",
      "execution_count": 4,
      "id": "7618d358",
      "metadata": {
        "id": "7618d358"
      },
      "outputs": [],
      "source": [
        "\"\"\"This is available in community package\"\"\"\n",
        "from langchain_community.retrievers import WikipediaRetriever"
      ]
    },
    {
      "cell_type": "code",
      "execution_count": 10,
      "id": "0b17cba1",
      "metadata": {
        "id": "0b17cba1"
      },
      "outputs": [],
      "source": [
        "# first initialize the retiever\n",
        "\n",
        "retriever = WikipediaRetriever(top_k_results=2)"
      ]
    },
    {
      "cell_type": "code",
      "execution_count": 11,
      "id": "1d77e31f",
      "metadata": {
        "id": "1d77e31f"
      },
      "outputs": [],
      "source": [
        "# our query and result\n",
        "query = \"One Piece\"\n",
        "\n",
        "# get the result from retriever\n",
        "result = retriever.invoke(query)"
      ]
    },
    {
      "cell_type": "code",
      "execution_count": 12,
      "id": "1ca1d458",
      "metadata": {
        "colab": {
          "base_uri": "https://localhost:8080/"
        },
        "id": "1ca1d458",
        "outputId": "b1798d7d-d180-47b5-e798-8919bd7362c1"
      },
      "outputs": [
        {
          "data": {
            "text/plain": [
              "[Document(metadata={'title': 'One Piece', 'summary': 'One Piece (stylized in all caps) is a Japanese manga series written and illustrated by Eiichiro Oda. It follows the adventures of Monkey D. Luffy and his crew, the Straw Hat Pirates, as he explores the Grand Line in search of the mythical treasure known as the \"One Piece\" to become the next King of the Pirates.\\nThe manga has been serialized in Shueisha\\'s shōnen manga magazine Weekly Shōnen Jump since July 1997, with its chapters compiled in 112 tankōbon volumes as of July 2025. It was licensed for an English language release in North America and the United Kingdom by Viz Media and in Australia by Madman Entertainment. Becoming a media franchise, it has been adapted into a festival film by Production I.G, and an anime series by Toei Animation, which premiered in October 1999. Additionally, Toei has developed 14 animated feature films and one original video animation. Several companies have developed various types of merchandising and media, such as a trading card game and video games. Netflix released a live action TV series adaptation in 2023.\\nOne Piece has received praise for its storytelling, expansive worldbuilding, art, characterization, and humor. It is regarded by critics and readers as one of the greatest manga series of all time. By August 2022, it had over 516.6 million copies in circulation worldwide, making it the best-selling manga series ever and the best-selling comic series in volume format. It holds various publishing records, including the highest initial print run for any book in Japan. In 2015 and 2022, it set the Guinness World Records for \"most copies published for the same comic book series by a single author\". It was the best-selling manga for 11 consecutive years (2008–2018) and remains the only series with over 3 million initial prints for over ten years, as well as the only one with every of its over 100 published tankōbon volumes selling over 1 million copies. Since 2008, it has consistently ranked first in Oricon\\'s weekly comic chart.', 'source': 'https://en.wikipedia.org/wiki/One_Piece'}, page_content='One Piece (stylized in all caps) is a Japanese manga series written and illustrated by Eiichiro Oda. It follows the adventures of Monkey D. Luffy and his crew, the Straw Hat Pirates, as he explores the Grand Line in search of the mythical treasure known as the \"One Piece\" to become the next King of the Pirates.\\nThe manga has been serialized in Shueisha\\'s shōnen manga magazine Weekly Shōnen Jump since July 1997, with its chapters compiled in 112 tankōbon volumes as of July 2025. It was licensed for an English language release in North America and the United Kingdom by Viz Media and in Australia by Madman Entertainment. Becoming a media franchise, it has been adapted into a festival film by Production I.G, and an anime series by Toei Animation, which premiered in October 1999. Additionally, Toei has developed 14 animated feature films and one original video animation. Several companies have developed various types of merchandising and media, such as a trading card game and video games. Netflix released a live action TV series adaptation in 2023.\\nOne Piece has received praise for its storytelling, expansive worldbuilding, art, characterization, and humor. It is regarded by critics and readers as one of the greatest manga series of all time. By August 2022, it had over 516.6 million copies in circulation worldwide, making it the best-selling manga series ever and the best-selling comic series in volume format. It holds various publishing records, including the highest initial print run for any book in Japan. In 2015 and 2022, it set the Guinness World Records for \"most copies published for the same comic book series by a single author\". It was the best-selling manga for 11 consecutive years (2008–2018) and remains the only series with over 3 million initial prints for over ten years, as well as the only one with every of its over 100 published tankōbon volumes selling over 1 million copies. Since 2008, it has consistently ranked first in Oricon\\'s weekly comic chart.\\n\\n\\n== Synopsis ==\\n\\n\\n=== Setting ===\\n\\nOne Piece is set on the Blue Planet, populated by humans and other races such as dwarves (more akin to fairies in size), giants, merfolk, fish-men, long-limbed tribes, long-necked people known as the Snakeneck Tribe, and animal people, known as \"Minks\". The Blue Planet is governed by an authoritarian intercontinental organization known as the World Government, consisting of dozens of member countries. The Navy is the military branch of the World Government that protects the known seas from pirates and other criminals. Cipher Pol acts as the World Government\\'s secret police. While pirates are major opponents of the Government, the ones who challenge their rule are the Revolutionary Army who seek to overthrow them. The central tension of the series pits the World Government and their forces against pirates. The series regularly emphasizes moral ambiguity over the label \"pirate\", which includes morally bankrupt individuals motivated by selfish gains, but also any individuals who do not submit to the World Government\\'s authoritarian—and often morally ambiguous—rule. The One Piece world also has supernatural objects such as Devil Fruits, which are mysterious fruits that grant whoever eats them transformative powers at the cost of becoming weakened in bodies of water, resulting in them losing the ability to swim. Another supernatural power is Haki, which grants its users enhanced observation and fighting abilities based on their willpower; it is one of the only effective methods of inflicting bodily harm on certain Devil Fruit users.\\nThe surface of the Blue Planet mainly consists of the Blue Sea, two vast oceans divided by a massive continental mountain range called the Red Line. Within the oceans is a second global phenomenon known as the Grand Line, which is a sea that runs perpendicular to the Red Line and is bounded by the Calm Belt, strips of calm ocean infested with huge ship-eating monsters known as Sea Kings. These geographical bar'),\n",
              " Document(metadata={'title': 'One Piece season 21', 'summary': 'The twenty-first season of the One Piece anime television series is produced by Toei Animation, directed by Tatsuya Nagamine (until episode 1122), Wataru Matsumi (beginning with episode 1123), Satoshi Itō and Yasunori Koyama. The season began broadcasting on Fuji Television on January 7, 2024. Like the rest of the series, this season follows the Emperor Monkey D. Luffy\\'s adventures with his Straw Hat Pirates. The season adapts material from the \"Egghead\" arc, from the rest of the 105th volume onwards of the manga series of the same name by Eiichiro Oda. It deals with the Straw Hat Pirates meeting Dr. Vegapunk on the futuristic-looking island, Egghead, which will lead into an event that will shock the world.\\nIn October 2024, it was announced that the anime series would go on hiatus until April 2025, and that a remastered and re-edited version of the \"Fishman Island\" story arc would air in the show\\'s timeslot during the break. After returning, the show would move to Sunday nights for the first time since 2006, marking the anime\\'s return to a primetime network timeslot. Episode 1123 premiered on April 5, 2025, as part of the network\\'s Premium Saturday timeslot before moving to its fixed Sunday night slot a day later, beginning with episode 1124 on April 6.\\nSix pieces of theme music are used for the season thus far. From episode 1089 to 1122, the opening theme song is \"Uuuuus!\" (あーーっす！, Āssu!; a drawn-out spelling of \\'Us!\\'), performed by Hiroshi Kitadani, while the ending theme song is \"Dear Sunrise\", performed by Maki Otsuki. For episode 1123 to episode 1138, the opening theme song is \"Angel & Devil\" (天使と悪魔, Tenshi to Akuma), performed by Gre4n Boyz, while the ending theme song is \"The 1\", performed by Muque. From episode 1139 onwards, the opening theme song is \"Carmine\" (カーマイン), performed by Ellegarden, while the ending theme song is \"Punks\", performed by Chameleon Lime Whoopie Pie.', 'source': 'https://en.wikipedia.org/wiki/One_Piece_season_21'}, page_content='The twenty-first season of the One Piece anime television series is produced by Toei Animation, directed by Tatsuya Nagamine (until episode 1122), Wataru Matsumi (beginning with episode 1123), Satoshi Itō and Yasunori Koyama. The season began broadcasting on Fuji Television on January 7, 2024. Like the rest of the series, this season follows the Emperor Monkey D. Luffy\\'s adventures with his Straw Hat Pirates. The season adapts material from the \"Egghead\" arc, from the rest of the 105th volume onwards of the manga series of the same name by Eiichiro Oda. It deals with the Straw Hat Pirates meeting Dr. Vegapunk on the futuristic-looking island, Egghead, which will lead into an event that will shock the world.\\nIn October 2024, it was announced that the anime series would go on hiatus until April 2025, and that a remastered and re-edited version of the \"Fishman Island\" story arc would air in the show\\'s timeslot during the break. After returning, the show would move to Sunday nights for the first time since 2006, marking the anime\\'s return to a primetime network timeslot. Episode 1123 premiered on April 5, 2025, as part of the network\\'s Premium Saturday timeslot before moving to its fixed Sunday night slot a day later, beginning with episode 1124 on April 6.\\nSix pieces of theme music are used for the season thus far. From episode 1089 to 1122, the opening theme song is \"Uuuuus!\" (あーーっす！, Āssu!; a drawn-out spelling of \\'Us!\\'), performed by Hiroshi Kitadani, while the ending theme song is \"Dear Sunrise\", performed by Maki Otsuki. For episode 1123 to episode 1138, the opening theme song is \"Angel & Devil\" (天使と悪魔, Tenshi to Akuma), performed by Gre4n Boyz, while the ending theme song is \"The 1\", performed by Muque. From episode 1139 onwards, the opening theme song is \"Carmine\" (カーマイン), performed by Ellegarden, while the ending theme song is \"Punks\", performed by Chameleon Lime Whoopie Pie.\\n\\n\\n== Episodes ==\\n\\n\\n== Specials ==\\nNote: All specials featured on this list are recap specials with the exception of \"One Piece Fan Letter\", which serves as a 25th anniversary special that is officially unnumbered for the TV series.\\n\\n\\n== Home media release ==\\n\\n\\n=== Japanese ===\\n\\n\\n=== English ===\\n\\n\\n== Notes ==\\n\\n\\n== References ==\\nGeneral\\nTVアニメ | ONE PIECE.com（ワンピース ドットコム）. one-piece.com (in Japanese). Retrieved January 14, 2024.\\nワンピース - フジテレビ. fujitv.co.jp (in Japanese). Fuji Television. Retrieved January 14, 2024.\\nSpecific')]"
            ]
          },
          "execution_count": 12,
          "metadata": {},
          "output_type": "execute_result"
        }
      ],
      "source": [
        "result"
      ]
    },
    {
      "cell_type": "code",
      "execution_count": null,
      "id": "dEss2BgpG12N",
      "metadata": {
        "colab": {
          "base_uri": "https://localhost:8080/"
        },
        "id": "dEss2BgpG12N",
        "outputId": "a4859501-bcd7-40ae-de29-4b7d58c0e0ee"
      },
      "outputs": [
        {
          "name": "stdout",
          "output_type": "stream",
          "text": [
            "======== Result 1 ==========\n",
            "Content:\n",
            "One Piece (stylized in all caps) is a Japanese manga series written and illustrated by Eiichiro Oda. It follows the adventures of Monkey D. Luffy and his crew, the Straw Hat Pirates, as he explores the Grand Line in search of the mythical treasure known as the \"One Piece\" to become the next King of the Pirates.\n",
            "The manga has been serialized in Shueisha's shōnen manga magazine Weekly Shōnen Jump since July 1997, with its chapters compiled in 112 tankōbon volumes as of July 2025. It was licensed for an English language release in North America and the United Kingdom by Viz Media and in Australia by Madman Entertainment. Becoming a media franchise, it has been adapted into a festival film by Production I.G, and an anime series by Toei Animation, which premiered in October 1999. Additionally, Toei has developed 14 animated feature films and one original video animation. Several companies have developed various types of merchandising and media, such as a trading card game and video games. Netflix released a live action TV series adaptation in 2023.\n",
            "One Piece has received praise for its storytelling, expansive worldbuilding, art, characterization, and humor. It is regarded by critics and readers as one of the greatest manga series of all time. By August 2022, it had over 516.6 million copies in circulation worldwide, making it the best-selling manga series ever and the best-selling comic series in volume format. It holds various publishing records, including the highest initial print run for any book in Japan. In 2015 and 2022, it set the Guinness World Records for \"most copies published for the same comic book series by a single author\". It was the best-selling manga for 11 consecutive years (2008–2018) and remains the only series with over 3 million initial prints for over ten years, as well as the only one with every of its over 100 published tankōbon volumes selling over 1 million copies. Since 2008, it has consistently ranked first in Oricon's weekly comic chart.\n",
            "\n",
            "\n",
            "== Synopsis ==\n",
            "\n",
            "\n",
            "=== Setting ===\n",
            "\n",
            "One Piece is set on the Blue Planet, populated by humans and other races such as dwarves (more akin to fairies in size), giants, merfolk, fish-men, long-limbed tribes, long-necked people known as the Snakeneck Tribe, and animal people, known as \"Minks\". The Blue Planet is governed by an authoritarian intercontinental organization known as the World Government, consisting of dozens of member countries. The Navy is the military branch of the World Government that protects the known seas from pirates and other criminals. Cipher Pol acts as the World Government's secret police. While pirates are major opponents of the Government, the ones who challenge their rule are the Revolutionary Army who seek to overthrow them. The central tension of the series pits the World Government and their forces against pirates. The series regularly emphasizes moral ambiguity over the label \"pirate\", which includes morally bankrupt individuals motivated by selfish gains, but also any individuals who do not submit to the World Government's authoritarian—and often morally ambiguous—rule. The One Piece world also has supernatural objects such as Devil Fruits, which are mysterious fruits that grant whoever eats them transformative powers at the cost of becoming weakened in bodies of water, resulting in them losing the ability to swim. Another supernatural power is Haki, which grants its users enhanced observation and fighting abilities based on their willpower; it is one of the only effective methods of inflicting bodily harm on certain Devil Fruit users.\n",
            "The surface of the Blue Planet mainly consists of the Blue Sea, two vast oceans divided by a massive continental mountain range called the Red Line. Within the oceans is a second global phenomenon known as the Grand Line, which is a sea that runs perpendicular to the Red Line and is bounded by the Calm Belt, strips of calm ocean infested with huge ship-eating monsters known as Sea Kings. These geographical bar...\n",
            "======== Result 2 ==========\n",
            "Content:\n",
            "The twenty-first season of the One Piece anime television series is produced by Toei Animation, directed by Tatsuya Nagamine (until episode 1122), Wataru Matsumi (beginning with episode 1123), Satoshi Itō and Yasunori Koyama. The season began broadcasting on Fuji Television on January 7, 2024. Like the rest of the series, this season follows the Emperor Monkey D. Luffy's adventures with his Straw Hat Pirates. The season adapts material from the \"Egghead\" arc, from the rest of the 105th volume onwards of the manga series of the same name by Eiichiro Oda. It deals with the Straw Hat Pirates meeting Dr. Vegapunk on the futuristic-looking island, Egghead, which will lead into an event that will shock the world.\n",
            "In October 2024, it was announced that the anime series would go on hiatus until April 2025, and that a remastered and re-edited version of the \"Fishman Island\" story arc would air in the show's timeslot during the break. After returning, the show would move to Sunday nights for the first time since 2006, marking the anime's return to a primetime network timeslot. Episode 1123 premiered on April 5, 2025, as part of the network's Premium Saturday timeslot before moving to its fixed Sunday night slot a day later, beginning with episode 1124 on April 6.\n",
            "Six pieces of theme music are used for the season thus far. From episode 1089 to 1122, the opening theme song is \"Uuuuus!\" (あーーっす！, Āssu!; a drawn-out spelling of 'Us!'), performed by Hiroshi Kitadani, while the ending theme song is \"Dear Sunrise\", performed by Maki Otsuki. For episode 1123 to episode 1138, the opening theme song is \"Angel & Devil\" (天使と悪魔, Tenshi to Akuma), performed by Gre4n Boyz, while the ending theme song is \"The 1\", performed by Muque. From episode 1139 onwards, the opening theme song is \"Carmine\" (カーマイン), performed by Ellegarden, while the ending theme song is \"Punks\", performed by Chameleon Lime Whoopie Pie.\n",
            "\n",
            "\n",
            "== Episodes ==\n",
            "\n",
            "\n",
            "== Specials ==\n",
            "Note: All specials featured on this list are recap specials with the exception of \"One Piece Fan Letter\", which serves as a 25th anniversary special that is officially unnumbered for the TV series.\n",
            "\n",
            "\n",
            "== Home media release ==\n",
            "\n",
            "\n",
            "=== Japanese ===\n",
            "\n",
            "\n",
            "=== English ===\n",
            "\n",
            "\n",
            "== Notes ==\n",
            "\n",
            "\n",
            "== References ==\n",
            "General\n",
            "TVアニメ | ONE PIECE.com（ワンピース ドットコム）. one-piece.com (in Japanese). Retrieved January 14, 2024.\n",
            "ワンピース - フジテレビ. fujitv.co.jp (in Japanese). Fuji Television. Retrieved January 14, 2024.\n",
            "Specific...\n"
          ]
        }
      ],
      "source": [
        "for i, doc in enumerate(result):\n",
        "    print(f\"======== Result {i + 1} ==========\")\n",
        "    print(f\"Content:\\n{doc.page_content}...\")  # truncate for display\n"
      ]
    },
    {
      "cell_type": "markdown",
      "id": "rFfbuB5NHeZZ",
      "metadata": {
        "id": "rFfbuB5NHeZZ"
      },
      "source": [
        "## **Vector Store Retreiver**\n"
      ]
    },
    {
      "cell_type": "code",
      "execution_count": 16,
      "id": "CTTrdWdjG8I9",
      "metadata": {
        "id": "CTTrdWdjG8I9"
      },
      "outputs": [],
      "source": [
        "from langchain_community.vectorstores import Chroma\n",
        "from langchain_google_genai.embeddings import GoogleGenerativeAIEmbeddings\n",
        "from langchain_core.documents import Document"
      ]
    },
    {
      "cell_type": "code",
      "execution_count": null,
      "id": "JoOPo9waIXZb",
      "metadata": {
        "id": "JoOPo9waIXZb"
      },
      "outputs": [],
      "source": [
        "# Step 1: Your source documents\n",
        "documents = [\n",
        "    Document(page_content=\"LangChain helps developers build LLM applications easily.\"),\n",
        "    Document(\n",
        "        page_content=\"Chroma is a vector database optimized for LLM-based search.\"\n",
        "    ),\n",
        "    Document(page_content=\"Embeddings convert text into high-dimensional vectors.\"),\n",
        "    Document(page_content=\"OpenAI provides powerful embedding models.\"),\n",
        "]"
      ]
    },
    {
      "cell_type": "code",
      "execution_count": 18,
      "id": "Pj2uNRw9IbP6",
      "metadata": {
        "id": "Pj2uNRw9IbP6"
      },
      "outputs": [],
      "source": [
        "# Step 2: Initialize embedding model\n",
        "embedding_model = GoogleGenerativeAIEmbeddings(model=\"models/gemini-embedding-001\")"
      ]
    },
    {
      "cell_type": "code",
      "execution_count": null,
      "id": "jw0Lnjt4Im7t",
      "metadata": {
        "id": "jw0Lnjt4Im7t"
      },
      "outputs": [],
      "source": [
        "# Step 3: Create Chroma vector store in memory\n",
        "vectorstore = Chroma.from_documents(\n",
        "    documents=documents, embedding=embedding_model, collection_name=\"my_collection\"\n",
        ")"
      ]
    },
    {
      "cell_type": "code",
      "execution_count": 20,
      "id": "RZ89sFufIpuj",
      "metadata": {
        "id": "RZ89sFufIpuj"
      },
      "outputs": [],
      "source": [
        "# Step 4: Convert vectorstore into a retriever\n",
        "retriever = vectorstore.as_retriever(search_kwargs={\"k\": 2})"
      ]
    },
    {
      "cell_type": "code",
      "execution_count": 21,
      "id": "73sVhGAHI0bj",
      "metadata": {
        "id": "73sVhGAHI0bj"
      },
      "outputs": [],
      "source": [
        "query = \"which model is good for embeddings?\"\n",
        "results = retriever.invoke(query)"
      ]
    },
    {
      "cell_type": "code",
      "execution_count": null,
      "id": "e6xPBn6tJAks",
      "metadata": {
        "colab": {
          "base_uri": "https://localhost:8080/"
        },
        "id": "e6xPBn6tJAks",
        "outputId": "2bf458ba-6e55-4ac6-92b7-6ab612703f3c"
      },
      "outputs": [
        {
          "name": "stdout",
          "output_type": "stream",
          "text": [
            "======== Result1 ========\n",
            "OpenAI provides powerful embedding models.\n",
            "======== Result2 ========\n",
            "Embeddings convert text into high-dimensional vectors.\n"
          ]
        }
      ],
      "source": [
        "for i, doc in enumerate(results):\n",
        "    print(f\"======== Result{i + 1} ========\")\n",
        "    print(doc.page_content)"
      ]
    },
    {
      "cell_type": "markdown",
      "id": "BLLPLv0AJV5F",
      "metadata": {
        "id": "BLLPLv0AJV5F"
      },
      "source": [
        "Now this we have also done in previous topic named vector store like below\n"
      ]
    },
    {
      "cell_type": "code",
      "execution_count": null,
      "id": "RZVXNTAOJTUl",
      "metadata": {
        "id": "RZVXNTAOJTUl"
      },
      "outputs": [],
      "source": [
        "results = vectorstore.similarity_search_with_score(query, k=2)"
      ]
    },
    {
      "cell_type": "code",
      "execution_count": 26,
      "id": "qlZ-kkByJh17",
      "metadata": {
        "colab": {
          "base_uri": "https://localhost:8080/"
        },
        "id": "qlZ-kkByJh17",
        "outputId": "d25c372f-730c-49f4-b1a2-26c01976e371"
      },
      "outputs": [
        {
          "data": {
            "text/plain": [
              "[(Document(metadata={}, page_content='OpenAI provides powerful embedding models.'),\n",
              "  0.20905672013759613),\n",
              " (Document(metadata={}, page_content='Embeddings convert text into high-dimensional vectors.'),\n",
              "  0.2560487389564514)]"
            ]
          },
          "execution_count": 26,
          "metadata": {},
          "output_type": "execute_result"
        }
      ],
      "source": [
        "results"
      ]
    },
    {
      "cell_type": "code",
      "execution_count": null,
      "id": "MxsAvMlKJi9S",
      "metadata": {
        "colab": {
          "base_uri": "https://localhost:8080/"
        },
        "id": "MxsAvMlKJi9S",
        "outputId": "d744ecfe-ee32-450f-c8a8-ba95e1d4c4cf"
      },
      "outputs": [
        {
          "name": "stdout",
          "output_type": "stream",
          "text": [
            "======== Result1 ========\n",
            "(Document(metadata={}, page_content='OpenAI provides powerful embedding models.'), 0.20905672013759613)\n",
            "======== Result2 ========\n",
            "(Document(metadata={}, page_content='Embeddings convert text into high-dimensional vectors.'), 0.2560487389564514)\n"
          ]
        }
      ],
      "source": [
        "for i, doc in enumerate(results):\n",
        "    print(f\"======== Result{i + 1} ========\")\n",
        "    print(doc)"
      ]
    },
    {
      "cell_type": "markdown",
      "id": "thgWa-zLJwHR",
      "metadata": {
        "id": "thgWa-zLJwHR"
      },
      "source": [
        "SO now what is the difference between vector store similarity search and retrievers.\n",
        "\n",
        "1. Vector Store has a fixed search strategy\n",
        "2. So if we need to apply any other searching mechanism we need to have create retrievers\n",
        "3. Since Retriever is also a Runnable it is usefull for Connecting with Different Components\n"
      ]
    },
    {
      "cell_type": "markdown",
      "id": "Ub0WU_uGKM53",
      "metadata": {
        "id": "Ub0WU_uGKM53"
      },
      "source": [
        "# Retriever Based on Searching Mechanism\n"
      ]
    },
    {
      "cell_type": "markdown",
      "id": "zoyRsyQ7M2a3",
      "metadata": {
        "id": "zoyRsyQ7M2a3"
      },
      "source": [
        "## **MMR**\n"
      ]
    },
    {
      "cell_type": "code",
      "execution_count": 39,
      "id": "xgXO_uBbKShz",
      "metadata": {
        "id": "xgXO_uBbKShz"
      },
      "outputs": [],
      "source": [
        "from langchain_community.vectorstores import FAISS\n",
        "from langchain_google_genai.embeddings import GoogleGenerativeAIEmbeddings\n",
        "from langchain_core.documents import Document\n",
        "from langchain_google_genai import ChatGoogleGenerativeAI"
      ]
    },
    {
      "cell_type": "code",
      "execution_count": null,
      "id": "0PuDKR1sLZvy",
      "metadata": {
        "id": "0PuDKR1sLZvy"
      },
      "outputs": [],
      "source": [
        "# Sample documents\n",
        "docs = [\n",
        "    Document(page_content=\"LangChain makes it easy to work with LLMs.\"),\n",
        "    Document(page_content=\"LangChain is used to build LLM based applications.\"),\n",
        "    Document(page_content=\"Chroma is used to store and search document embeddings.\"),\n",
        "    Document(page_content=\"Embeddings are vector representations of text.\"),\n",
        "    Document(\n",
        "        page_content=\"MMR helps you get diverse results when doing similarity search.\"\n",
        "    ),\n",
        "    Document(page_content=\"LangChain supports Chroma, FAISS, Pinecone, and more.\"),\n",
        "]"
      ]
    },
    {
      "cell_type": "code",
      "execution_count": null,
      "id": "i4A5dwHTLqRc",
      "metadata": {
        "id": "i4A5dwHTLqRc"
      },
      "outputs": [],
      "source": [
        "# Initialize OpenAI embeddings\n",
        "embedding_model = GoogleGenerativeAIEmbeddings(model=\"models/gemini-embedding-001\")\n"
      ]
    },
    {
      "cell_type": "code",
      "execution_count": 42,
      "id": "QRv6fd_DLwvi",
      "metadata": {
        "id": "QRv6fd_DLwvi"
      },
      "outputs": [],
      "source": [
        "# Create FAISS vector store\n",
        "vectorstore = FAISS.from_documents(documents=docs, embedding=embedding_model)"
      ]
    },
    {
      "cell_type": "code",
      "execution_count": null,
      "id": "U9uVyjRyLyQy",
      "metadata": {
        "id": "U9uVyjRyLyQy"
      },
      "outputs": [],
      "source": [
        "# Create retrievers of MMR\n",
        "retriever = vectorstore.as_retriever(\n",
        "    search_type=\"mmr\",  # this means search type mmr\n",
        "    # k=top result, lambda_mult = relavance-diversity balance\n",
        "    search_kwargs={\"k\": 3, \"lambda_mult\": 0.5},\n",
        ")"
      ]
    },
    {
      "cell_type": "code",
      "execution_count": null,
      "id": "FAgTq3MWMaI6",
      "metadata": {
        "id": "FAgTq3MWMaI6"
      },
      "outputs": [],
      "source": [
        "query = \"What is Langchain\"\n",
        "\n",
        "result = retriever.invoke(query)"
      ]
    },
    {
      "cell_type": "code",
      "execution_count": null,
      "id": "fxOclLuPMnhq",
      "metadata": {
        "colab": {
          "base_uri": "https://localhost:8080/"
        },
        "id": "fxOclLuPMnhq",
        "outputId": "77864776-5016-4945-8098-833c16792988"
      },
      "outputs": [
        {
          "name": "stdout",
          "output_type": "stream",
          "text": [
            "LangChain is used to build LLM based applications.\n",
            "Embeddings are vector representations of text.\n",
            "LangChain supports Chroma, FAISS, Pinecone, and more.\n"
          ]
        }
      ],
      "source": [
        "for i, doc in enumerate(result):\n",
        "    print(doc.page_content)"
      ]
    },
    {
      "cell_type": "markdown",
      "id": "aFfWuQTJNF1D",
      "metadata": {
        "id": "aFfWuQTJNF1D"
      },
      "source": [
        "## **Multi Query Retriever**\n"
      ]
    },
    {
      "cell_type": "code",
      "execution_count": 46,
      "id": "YE-wWavJMrvS",
      "metadata": {
        "id": "YE-wWavJMrvS"
      },
      "outputs": [],
      "source": [
        "from langchain.retrievers.multi_query import MultiQueryRetriever"
      ]
    },
    {
      "cell_type": "code",
      "execution_count": null,
      "id": "lw7iU6jaNMD6",
      "metadata": {
        "id": "lw7iU6jaNMD6"
      },
      "outputs": [],
      "source": [
        "# Relevant health & wellness documents\n",
        "all_docs = [\n",
        "    Document(\n",
        "        page_content=\"Regular walking boosts heart health and can reduce symptoms of depression.\",\n",
        "        metadata={\"source\": \"H1\"},\n",
        "    ),\n",
        "    Document(\n",
        "        page_content=\"Consuming leafy greens and fruits helps detox the body and improve longevity.\",\n",
        "        metadata={\"source\": \"H2\"},\n",
        "    ),\n",
        "    Document(\n",
        "        page_content=\"Deep sleep is crucial for cellular repair and emotional regulation.\",\n",
        "        metadata={\"source\": \"H3\"},\n",
        "    ),\n",
        "    Document(\n",
        "        page_content=\"Mindfulness and controlled breathing lower cortisol and improve mental clarity.\",\n",
        "        metadata={\"source\": \"H4\"},\n",
        "    ),\n",
        "    Document(\n",
        "        page_content=\"Drinking sufficient water throughout the day helps maintain metabolism and energy.\",\n",
        "        metadata={\"source\": \"H5\"},\n",
        "    ),\n",
        "    Document(\n",
        "        page_content=\"The solar energy system in modern homes helps balance electricity demand.\",\n",
        "        metadata={\"source\": \"I1\"},\n",
        "    ),\n",
        "    Document(\n",
        "        page_content=\"Python balances readability with power, making it a popular system design language.\",\n",
        "        metadata={\"source\": \"I2\"},\n",
        "    ),\n",
        "    Document(\n",
        "        page_content=\"Photosynthesis enables plants to produce energy by converting sunlight.\",\n",
        "        metadata={\"source\": \"I3\"},\n",
        "    ),\n",
        "    Document(\n",
        "        page_content=\"The 2022 FIFA World Cup was held in Qatar and drew global energy and excitement.\",\n",
        "        metadata={\"source\": \"I4\"},\n",
        "    ),\n",
        "    Document(\n",
        "        page_content=\"Black holes bend spacetime and store immense gravitational energy.\",\n",
        "        metadata={\"source\": \"I5\"},\n",
        "    ),\n",
        "]"
      ]
    },
    {
      "cell_type": "code",
      "execution_count": null,
      "id": "xWu4GdgCNNcZ",
      "metadata": {
        "id": "xWu4GdgCNNcZ"
      },
      "outputs": [],
      "source": [
        "# Initialize OpenAI embeddings\n",
        "embedding_model = GoogleGenerativeAIEmbeddings(model=\"models/gemini-embedding-001\")\n",
        "\n",
        "# Create FAISS vector store\n",
        "vectorstore = FAISS.from_documents(documents=all_docs, embedding=embedding_model)"
      ]
    },
    {
      "cell_type": "code",
      "execution_count": null,
      "id": "K9EhwkBjNWGi",
      "metadata": {
        "id": "K9EhwkBjNWGi"
      },
      "outputs": [],
      "source": [
        "# Create retrievers Basic\n",
        "similarity_retriever = vectorstore.as_retriever(\n",
        "    search_type=\"similarity\", search_kwargs={\"k\": 5}\n",
        ")"
      ]
    },
    {
      "cell_type": "code",
      "execution_count": null,
      "id": "J0dGpRMwPHtZ",
      "metadata": {
        "id": "J0dGpRMwPHtZ"
      },
      "outputs": [],
      "source": [
        "# Retriever Multi Query\n",
        "multiquery_retriever = MultiQueryRetriever.from_llm(\n",
        "    retriever=vectorstore.as_retriever(search_kwargs={\"k\": 5}),\n",
        "    llm=ChatGoogleGenerativeAI(model=\"gemini-2.5-flash\"),\n",
        ")"
      ]
    },
    {
      "cell_type": "code",
      "execution_count": null,
      "id": "gFzcnV2iPYqR",
      "metadata": {
        "id": "gFzcnV2iPYqR"
      },
      "outputs": [],
      "source": [
        "# Query\n",
        "query = \"How to improve energy and maintain balance\""
      ]
    },
    {
      "cell_type": "code",
      "execution_count": null,
      "id": "Qj9vKySnPfXb",
      "metadata": {
        "id": "Qj9vKySnPfXb"
      },
      "outputs": [],
      "source": [
        "# Retrieve results\n",
        "similarity_results = similarity_retriever.invoke(query)\n",
        "multiquery_results = multiquery_retriever.invoke(query)"
      ]
    },
    {
      "cell_type": "code",
      "execution_count": null,
      "id": "onfrOR5RPiZp",
      "metadata": {
        "colab": {
          "base_uri": "https://localhost:8080/"
        },
        "id": "onfrOR5RPiZp",
        "outputId": "2aef4cbe-d2fc-4cea-876c-5a27a5b550ec"
      },
      "outputs": [
        {
          "name": "stdout",
          "output_type": "stream",
          "text": [
            "\n",
            "--- Result 1 ---\n",
            "Drinking sufficient water throughout the day helps maintain metabolism and energy.\n",
            "\n",
            "--- Result 2 ---\n",
            "Mindfulness and controlled breathing lower cortisol and improve mental clarity.\n",
            "\n",
            "--- Result 3 ---\n",
            "The solar energy system in modern homes helps balance electricity demand.\n",
            "\n",
            "--- Result 4 ---\n",
            "Consuming leafy greens and fruits helps detox the body and improve longevity.\n",
            "\n",
            "--- Result 5 ---\n",
            "Deep sleep is crucial for cellular repair and emotional regulation.\n",
            "******************************************************************************************************************************************************\n",
            "\n",
            "--- Result 1 ---\n",
            "Drinking sufficient water throughout the day helps maintain metabolism and energy.\n",
            "\n",
            "--- Result 2 ---\n",
            "Consuming leafy greens and fruits helps detox the body and improve longevity.\n",
            "\n",
            "--- Result 3 ---\n",
            "Deep sleep is crucial for cellular repair and emotional regulation.\n",
            "\n",
            "--- Result 4 ---\n",
            "Mindfulness and controlled breathing lower cortisol and improve mental clarity.\n",
            "\n",
            "--- Result 5 ---\n",
            "Regular walking boosts heart health and can reduce symptoms of depression.\n",
            "\n",
            "--- Result 6 ---\n",
            "The solar energy system in modern homes helps balance electricity demand.\n"
          ]
        }
      ],
      "source": [
        "for i, doc in enumerate(similarity_results):\n",
        "    print(f\"\\n--- Result {i + 1} ---\")\n",
        "    print(doc.page_content)\n",
        "\n",
        "print(\"*\" * 150)\n",
        "\n",
        "for i, doc in enumerate(multiquery_results):\n",
        "    print(f\"\\n--- Result {i + 1} ---\")\n",
        "    print(doc.page_content)"
      ]
    },
    {
      "cell_type": "markdown",
      "id": "sH60MwGAPww_",
      "metadata": {
        "id": "sH60MwGAPww_"
      },
      "source": [
        "## **Contextual Compression Retriever**\n"
      ]
    },
    {
      "cell_type": "code",
      "execution_count": 54,
      "id": "_U8Vz8BDPmSB",
      "metadata": {
        "id": "_U8Vz8BDPmSB"
      },
      "outputs": [],
      "source": [
        "from langchain.retrievers.contextual_compression import ContextualCompressionRetriever\n",
        "from langchain.retrievers.document_compressors import LLMChainExtractor\n",
        "from langchain_core.documents import Document"
      ]
    },
    {
      "cell_type": "code",
      "execution_count": null,
      "id": "duF2RijeRJ-5",
      "metadata": {
        "id": "duF2RijeRJ-5"
      },
      "outputs": [],
      "source": [
        "docs = [\n",
        "    Document(\n",
        "        page_content=(\n",
        "            \"\"\"The Grand Canyon is one of the most visited natural wonders in the world.\n",
        "        Photosynthesis is the process by which green plants convert sunlight into energy.\n",
        "        Millions of tourists travel to see it every year. The rocks date back millions of years.\"\"\"\n",
        "        ),\n",
        "        metadata={\"source\": \"Doc1\"},\n",
        "    ),\n",
        "    Document(\n",
        "        page_content=(\n",
        "            \"\"\"In medieval Europe, castles were built primarily for defense.\n",
        "        The chlorophyll in plant cells captures sunlight during photosynthesis.\n",
        "        Knights wore armor made of metal. Siege weapons were often used to breach castle walls.\"\"\"\n",
        "        ),\n",
        "        metadata={\"source\": \"Doc2\"},\n",
        "    ),\n",
        "    Document(\n",
        "        page_content=(\n",
        "            \"\"\"Basketball was invented by Dr. James Naismith in the late 19th century.\n",
        "        It was originally played with a soccer ball and peach baskets. NBA is now a global league.\"\"\"\n",
        "        ),\n",
        "        metadata={\"source\": \"Doc3\"},\n",
        "    ),\n",
        "    Document(\n",
        "        page_content=(\n",
        "            \"\"\"The history of cinema began in the late 1800s. Silent films were the earliest form.\n",
        "        Thomas Edison was among the pioneers. Photosynthesis does not occur in animal cells.\n",
        "        Modern filmmaking involves complex CGI and sound design.\"\"\"\n",
        "        ),\n",
        "        metadata={\"source\": \"Doc4\"},\n",
        "    ),\n",
        "]"
      ]
    },
    {
      "cell_type": "code",
      "execution_count": null,
      "id": "h9-ij9bRROZZ",
      "metadata": {
        "id": "h9-ij9bRROZZ"
      },
      "outputs": [],
      "source": [
        "# Create a FAISS vector store from the documents\n",
        "embedding_model = GoogleGenerativeAIEmbeddings(model=\"models/gemini-embedding-001\")\n",
        "vectorstore = FAISS.from_documents(docs, embedding_model)"
      ]
    },
    {
      "cell_type": "code",
      "execution_count": 58,
      "id": "c-kMevdwRTKp",
      "metadata": {
        "id": "c-kMevdwRTKp"
      },
      "outputs": [],
      "source": [
        "# Retrieve Relevant docs\n",
        "base_retriever = vectorstore.as_retriever(search_kwargs={\"k\": 5})"
      ]
    },
    {
      "cell_type": "code",
      "execution_count": 59,
      "id": "_yk0056ZRlGp",
      "metadata": {
        "id": "_yk0056ZRlGp"
      },
      "outputs": [],
      "source": [
        "# Set up the compressor using an LLM\n",
        "llm = ChatGoogleGenerativeAI(model=\"gemini-2.5-flash\")\n",
        "# Create a compression using llm i.e trim the docs\n",
        "compressor = LLMChainExtractor.from_llm(llm)"
      ]
    },
    {
      "cell_type": "code",
      "execution_count": null,
      "id": "Is7ssELpRwLL",
      "metadata": {
        "id": "Is7ssELpRwLL"
      },
      "outputs": [],
      "source": [
        "# Create the contextual compression retriever\n",
        "compression_retriever = ContextualCompressionRetriever(\n",
        "    # How to retrieve\n",
        "    base_retriever=base_retriever,\n",
        "    # how to compress\n",
        "    base_compressor=compressor,\n",
        ")"
      ]
    },
    {
      "cell_type": "code",
      "execution_count": 61,
      "id": "SMgENlX3R2NR",
      "metadata": {
        "id": "SMgENlX3R2NR"
      },
      "outputs": [],
      "source": [
        "# Query the retriever\n",
        "query = \"What is photosynthesis?\"\n",
        "compressed_results = compression_retriever.invoke(query)"
      ]
    },
    {
      "cell_type": "code",
      "execution_count": null,
      "id": "cLZh7xlcR4Jg",
      "metadata": {
        "colab": {
          "base_uri": "https://localhost:8080/"
        },
        "id": "cLZh7xlcR4Jg",
        "outputId": "afaabed3-421a-4409-ff62-7a457e39aaf6"
      },
      "outputs": [
        {
          "name": "stdout",
          "output_type": "stream",
          "text": [
            "\n",
            "--- Result 1 ---\n",
            "Photosynthesis is the process by which green plants convert sunlight into energy.\n",
            "\n",
            "--- Result 2 ---\n",
            "Photosynthesis does not occur in animal cells.\n",
            "\n",
            "--- Result 3 ---\n",
            "The chlorophyll in plant cells captures sunlight during photosynthesis.\n"
          ]
        }
      ],
      "source": [
        "for i, doc in enumerate(compressed_results):\n",
        "    print(f\"\\n--- Result {i + 1} ---\")\n",
        "    print(doc.page_content)\n"
      ]
    },
    {
      "cell_type": "markdown",
      "id": "siS2eC-nSDDt",
      "metadata": {
        "id": "siS2eC-nSDDt"
      },
      "source": [
        "https://python.langchain.com/docs/integrations/retrievers/\n"
      ]
    }
  ],
  "metadata": {
    "colab": {
      "collapsed_sections": [
        "S3ZAt2w-KIiv"
      ],
      "provenance": []
    },
    "kernelspec": {
      "display_name": "langchain-tutorials (3.12.6)",
      "language": "python",
      "name": "python3"
    },
    "language_info": {
      "codemirror_mode": {
        "name": "ipython",
        "version": 3
      },
      "file_extension": ".py",
      "mimetype": "text/x-python",
      "name": "python",
      "nbconvert_exporter": "python",
      "pygments_lexer": "ipython3",
      "version": "3.12.6"
    }
  },
  "nbformat": 4,
  "nbformat_minor": 5
}
